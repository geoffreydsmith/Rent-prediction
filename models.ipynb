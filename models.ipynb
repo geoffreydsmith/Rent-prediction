{
  "metadata": {
    "kernelspec": {
      "language": "python",
      "display_name": "Python 3",
      "name": "python3"
    },
    "language_info": {
      "name": "python",
      "version": "3.7.12",
      "mimetype": "text/x-python",
      "codemirror_mode": {
        "name": "ipython",
        "version": 3
      },
      "pygments_lexer": "ipython3",
      "nbconvert_exporter": "python",
      "file_extension": ".py"
    },
    "colab": {
      "provenance": []
    }
  },
  "nbformat_minor": 0,
  "nbformat": 4,
  "cells": [
    {
      "cell_type": "code",
      "source": [
        "import numpy as np \n",
        "import pandas as pd \n",
        "import seaborn as sns\n",
        "from matplotlib import pyplot as plt"
      ],
      "metadata": {
        "_uuid": "8f2839f25d086af736a60e9eeb907d3b93b6e0e5",
        "_cell_guid": "b1076dfc-b9ad-4769-8c92-a6c4dae69d19",
        "execution": {
          "iopub.status.busy": "2022-09-25T20:46:32.850346Z",
          "iopub.execute_input": "2022-09-25T20:46:32.850889Z",
          "iopub.status.idle": "2022-09-25T20:46:32.870264Z",
          "shell.execute_reply.started": "2022-09-25T20:46:32.850843Z",
          "shell.execute_reply": "2022-09-25T20:46:32.869269Z"
        },
        "trusted": true,
        "id": "-vpEEHbbahbV"
      },
      "execution_count": 1,
      "outputs": []
    },
    {
      "cell_type": "code",
      "source": [
        "df = pd.read_csv(\"https://raw.githubusercontent.com/geoffreydsmith/Rent-prediction/main/House_Rent_Dataset.csv\")\n",
        "df.info()\n",
        "for col in df.columns:\n",
        "    print(col, \" has \", sum(df[col].isna()), \" NA values.\")"
      ],
      "metadata": {
        "execution": {
          "iopub.status.busy": "2022-09-25T20:46:32.872424Z",
          "iopub.execute_input": "2022-09-25T20:46:32.873087Z",
          "iopub.status.idle": "2022-09-25T20:46:32.915673Z",
          "shell.execute_reply.started": "2022-09-25T20:46:32.873049Z",
          "shell.execute_reply": "2022-09-25T20:46:32.914441Z"
        },
        "trusted": true,
        "colab": {
          "base_uri": "https://localhost:8080/"
        },
        "id": "Ek9o0EGwahbY",
        "outputId": "7f826e14-eeb7-42d0-859f-4d6fa8fbe04e"
      },
      "execution_count": 2,
      "outputs": [
        {
          "output_type": "stream",
          "name": "stdout",
          "text": [
            "<class 'pandas.core.frame.DataFrame'>\n",
            "RangeIndex: 4746 entries, 0 to 4745\n",
            "Data columns (total 12 columns):\n",
            " #   Column             Non-Null Count  Dtype \n",
            "---  ------             --------------  ----- \n",
            " 0   Posted On          4746 non-null   object\n",
            " 1   BHK                4746 non-null   int64 \n",
            " 2   Rent               4746 non-null   int64 \n",
            " 3   Size               4746 non-null   int64 \n",
            " 4   Floor              4746 non-null   object\n",
            " 5   Area Type          4746 non-null   object\n",
            " 6   Area Locality      4746 non-null   object\n",
            " 7   City               4746 non-null   object\n",
            " 8   Furnishing Status  4746 non-null   object\n",
            " 9   Tenant Preferred   4746 non-null   object\n",
            " 10  Bathroom           4746 non-null   int64 \n",
            " 11  Point of Contact   4746 non-null   object\n",
            "dtypes: int64(4), object(8)\n",
            "memory usage: 445.1+ KB\n",
            "Posted On  has  0  NA values.\n",
            "BHK  has  0  NA values.\n",
            "Rent  has  0  NA values.\n",
            "Size  has  0  NA values.\n",
            "Floor  has  0  NA values.\n",
            "Area Type  has  0  NA values.\n",
            "Area Locality  has  0  NA values.\n",
            "City  has  0  NA values.\n",
            "Furnishing Status  has  0  NA values.\n",
            "Tenant Preferred  has  0  NA values.\n",
            "Bathroom  has  0  NA values.\n",
            "Point of Contact  has  0  NA values.\n"
          ]
        }
      ]
    },
    {
      "cell_type": "code",
      "source": [
        "df.head()"
      ],
      "metadata": {
        "execution": {
          "iopub.status.busy": "2022-09-25T20:46:32.917222Z",
          "iopub.execute_input": "2022-09-25T20:46:32.917562Z",
          "iopub.status.idle": "2022-09-25T20:46:32.936310Z",
          "shell.execute_reply.started": "2022-09-25T20:46:32.917519Z",
          "shell.execute_reply": "2022-09-25T20:46:32.934440Z"
        },
        "trusted": true,
        "colab": {
          "base_uri": "https://localhost:8080/",
          "height": 206
        },
        "id": "e1oCwB_zahbZ",
        "outputId": "7732ebbd-417f-4476-c98f-89c37a4392e5"
      },
      "execution_count": 3,
      "outputs": [
        {
          "output_type": "execute_result",
          "data": {
            "text/plain": [
              "    Posted On  BHK   Rent  Size            Floor    Area Type  \\\n",
              "0  2022-05-18    2  10000  1100  Ground out of 2   Super Area   \n",
              "1  2022-05-13    2  20000   800       1 out of 3   Super Area   \n",
              "2  2022-05-16    2  17000  1000       1 out of 3   Super Area   \n",
              "3  2022-07-04    2  10000   800       1 out of 2   Super Area   \n",
              "4  2022-05-09    2   7500   850       1 out of 2  Carpet Area   \n",
              "\n",
              "              Area Locality     City Furnishing Status  Tenant Preferred  \\\n",
              "0                    Bandel  Kolkata       Unfurnished  Bachelors/Family   \n",
              "1  Phool Bagan, Kankurgachi  Kolkata    Semi-Furnished  Bachelors/Family   \n",
              "2   Salt Lake City Sector 2  Kolkata    Semi-Furnished  Bachelors/Family   \n",
              "3               Dumdum Park  Kolkata       Unfurnished  Bachelors/Family   \n",
              "4             South Dum Dum  Kolkata       Unfurnished         Bachelors   \n",
              "\n",
              "   Bathroom Point of Contact  \n",
              "0         2    Contact Owner  \n",
              "1         1    Contact Owner  \n",
              "2         1    Contact Owner  \n",
              "3         1    Contact Owner  \n",
              "4         1    Contact Owner  "
            ],
            "text/html": [
              "\n",
              "  <div id=\"df-0e95ea6a-a057-4533-b7d3-f2cc815c5f9f\">\n",
              "    <div class=\"colab-df-container\">\n",
              "      <div>\n",
              "<style scoped>\n",
              "    .dataframe tbody tr th:only-of-type {\n",
              "        vertical-align: middle;\n",
              "    }\n",
              "\n",
              "    .dataframe tbody tr th {\n",
              "        vertical-align: top;\n",
              "    }\n",
              "\n",
              "    .dataframe thead th {\n",
              "        text-align: right;\n",
              "    }\n",
              "</style>\n",
              "<table border=\"1\" class=\"dataframe\">\n",
              "  <thead>\n",
              "    <tr style=\"text-align: right;\">\n",
              "      <th></th>\n",
              "      <th>Posted On</th>\n",
              "      <th>BHK</th>\n",
              "      <th>Rent</th>\n",
              "      <th>Size</th>\n",
              "      <th>Floor</th>\n",
              "      <th>Area Type</th>\n",
              "      <th>Area Locality</th>\n",
              "      <th>City</th>\n",
              "      <th>Furnishing Status</th>\n",
              "      <th>Tenant Preferred</th>\n",
              "      <th>Bathroom</th>\n",
              "      <th>Point of Contact</th>\n",
              "    </tr>\n",
              "  </thead>\n",
              "  <tbody>\n",
              "    <tr>\n",
              "      <th>0</th>\n",
              "      <td>2022-05-18</td>\n",
              "      <td>2</td>\n",
              "      <td>10000</td>\n",
              "      <td>1100</td>\n",
              "      <td>Ground out of 2</td>\n",
              "      <td>Super Area</td>\n",
              "      <td>Bandel</td>\n",
              "      <td>Kolkata</td>\n",
              "      <td>Unfurnished</td>\n",
              "      <td>Bachelors/Family</td>\n",
              "      <td>2</td>\n",
              "      <td>Contact Owner</td>\n",
              "    </tr>\n",
              "    <tr>\n",
              "      <th>1</th>\n",
              "      <td>2022-05-13</td>\n",
              "      <td>2</td>\n",
              "      <td>20000</td>\n",
              "      <td>800</td>\n",
              "      <td>1 out of 3</td>\n",
              "      <td>Super Area</td>\n",
              "      <td>Phool Bagan, Kankurgachi</td>\n",
              "      <td>Kolkata</td>\n",
              "      <td>Semi-Furnished</td>\n",
              "      <td>Bachelors/Family</td>\n",
              "      <td>1</td>\n",
              "      <td>Contact Owner</td>\n",
              "    </tr>\n",
              "    <tr>\n",
              "      <th>2</th>\n",
              "      <td>2022-05-16</td>\n",
              "      <td>2</td>\n",
              "      <td>17000</td>\n",
              "      <td>1000</td>\n",
              "      <td>1 out of 3</td>\n",
              "      <td>Super Area</td>\n",
              "      <td>Salt Lake City Sector 2</td>\n",
              "      <td>Kolkata</td>\n",
              "      <td>Semi-Furnished</td>\n",
              "      <td>Bachelors/Family</td>\n",
              "      <td>1</td>\n",
              "      <td>Contact Owner</td>\n",
              "    </tr>\n",
              "    <tr>\n",
              "      <th>3</th>\n",
              "      <td>2022-07-04</td>\n",
              "      <td>2</td>\n",
              "      <td>10000</td>\n",
              "      <td>800</td>\n",
              "      <td>1 out of 2</td>\n",
              "      <td>Super Area</td>\n",
              "      <td>Dumdum Park</td>\n",
              "      <td>Kolkata</td>\n",
              "      <td>Unfurnished</td>\n",
              "      <td>Bachelors/Family</td>\n",
              "      <td>1</td>\n",
              "      <td>Contact Owner</td>\n",
              "    </tr>\n",
              "    <tr>\n",
              "      <th>4</th>\n",
              "      <td>2022-05-09</td>\n",
              "      <td>2</td>\n",
              "      <td>7500</td>\n",
              "      <td>850</td>\n",
              "      <td>1 out of 2</td>\n",
              "      <td>Carpet Area</td>\n",
              "      <td>South Dum Dum</td>\n",
              "      <td>Kolkata</td>\n",
              "      <td>Unfurnished</td>\n",
              "      <td>Bachelors</td>\n",
              "      <td>1</td>\n",
              "      <td>Contact Owner</td>\n",
              "    </tr>\n",
              "  </tbody>\n",
              "</table>\n",
              "</div>\n",
              "      <button class=\"colab-df-convert\" onclick=\"convertToInteractive('df-0e95ea6a-a057-4533-b7d3-f2cc815c5f9f')\"\n",
              "              title=\"Convert this dataframe to an interactive table.\"\n",
              "              style=\"display:none;\">\n",
              "        \n",
              "  <svg xmlns=\"http://www.w3.org/2000/svg\" height=\"24px\"viewBox=\"0 0 24 24\"\n",
              "       width=\"24px\">\n",
              "    <path d=\"M0 0h24v24H0V0z\" fill=\"none\"/>\n",
              "    <path d=\"M18.56 5.44l.94 2.06.94-2.06 2.06-.94-2.06-.94-.94-2.06-.94 2.06-2.06.94zm-11 1L8.5 8.5l.94-2.06 2.06-.94-2.06-.94L8.5 2.5l-.94 2.06-2.06.94zm10 10l.94 2.06.94-2.06 2.06-.94-2.06-.94-.94-2.06-.94 2.06-2.06.94z\"/><path d=\"M17.41 7.96l-1.37-1.37c-.4-.4-.92-.59-1.43-.59-.52 0-1.04.2-1.43.59L10.3 9.45l-7.72 7.72c-.78.78-.78 2.05 0 2.83L4 21.41c.39.39.9.59 1.41.59.51 0 1.02-.2 1.41-.59l7.78-7.78 2.81-2.81c.8-.78.8-2.07 0-2.86zM5.41 20L4 18.59l7.72-7.72 1.47 1.35L5.41 20z\"/>\n",
              "  </svg>\n",
              "      </button>\n",
              "      \n",
              "  <style>\n",
              "    .colab-df-container {\n",
              "      display:flex;\n",
              "      flex-wrap:wrap;\n",
              "      gap: 12px;\n",
              "    }\n",
              "\n",
              "    .colab-df-convert {\n",
              "      background-color: #E8F0FE;\n",
              "      border: none;\n",
              "      border-radius: 50%;\n",
              "      cursor: pointer;\n",
              "      display: none;\n",
              "      fill: #1967D2;\n",
              "      height: 32px;\n",
              "      padding: 0 0 0 0;\n",
              "      width: 32px;\n",
              "    }\n",
              "\n",
              "    .colab-df-convert:hover {\n",
              "      background-color: #E2EBFA;\n",
              "      box-shadow: 0px 1px 2px rgba(60, 64, 67, 0.3), 0px 1px 3px 1px rgba(60, 64, 67, 0.15);\n",
              "      fill: #174EA6;\n",
              "    }\n",
              "\n",
              "    [theme=dark] .colab-df-convert {\n",
              "      background-color: #3B4455;\n",
              "      fill: #D2E3FC;\n",
              "    }\n",
              "\n",
              "    [theme=dark] .colab-df-convert:hover {\n",
              "      background-color: #434B5C;\n",
              "      box-shadow: 0px 1px 3px 1px rgba(0, 0, 0, 0.15);\n",
              "      filter: drop-shadow(0px 1px 2px rgba(0, 0, 0, 0.3));\n",
              "      fill: #FFFFFF;\n",
              "    }\n",
              "  </style>\n",
              "\n",
              "      <script>\n",
              "        const buttonEl =\n",
              "          document.querySelector('#df-0e95ea6a-a057-4533-b7d3-f2cc815c5f9f button.colab-df-convert');\n",
              "        buttonEl.style.display =\n",
              "          google.colab.kernel.accessAllowed ? 'block' : 'none';\n",
              "\n",
              "        async function convertToInteractive(key) {\n",
              "          const element = document.querySelector('#df-0e95ea6a-a057-4533-b7d3-f2cc815c5f9f');\n",
              "          const dataTable =\n",
              "            await google.colab.kernel.invokeFunction('convertToInteractive',\n",
              "                                                     [key], {});\n",
              "          if (!dataTable) return;\n",
              "\n",
              "          const docLinkHtml = 'Like what you see? Visit the ' +\n",
              "            '<a target=\"_blank\" href=https://colab.research.google.com/notebooks/data_table.ipynb>data table notebook</a>'\n",
              "            + ' to learn more about interactive tables.';\n",
              "          element.innerHTML = '';\n",
              "          dataTable['output_type'] = 'display_data';\n",
              "          await google.colab.output.renderOutput(dataTable, element);\n",
              "          const docLink = document.createElement('div');\n",
              "          docLink.innerHTML = docLinkHtml;\n",
              "          element.appendChild(docLink);\n",
              "        }\n",
              "      </script>\n",
              "    </div>\n",
              "  </div>\n",
              "  "
            ]
          },
          "metadata": {},
          "execution_count": 3
        }
      ]
    },
    {
      "cell_type": "code",
      "source": [
        "df.Rent.describe()"
      ],
      "metadata": {
        "execution": {
          "iopub.status.busy": "2022-09-25T20:46:32.938040Z",
          "iopub.execute_input": "2022-09-25T20:46:32.938501Z",
          "iopub.status.idle": "2022-09-25T20:46:32.953874Z",
          "shell.execute_reply.started": "2022-09-25T20:46:32.938465Z",
          "shell.execute_reply": "2022-09-25T20:46:32.951625Z"
        },
        "trusted": true,
        "colab": {
          "base_uri": "https://localhost:8080/"
        },
        "id": "EqQEV8D0ahba",
        "outputId": "3922c103-2768-49fc-e88a-3b5e5cbb7364"
      },
      "execution_count": 4,
      "outputs": [
        {
          "output_type": "execute_result",
          "data": {
            "text/plain": [
              "count    4.746000e+03\n",
              "mean     3.499345e+04\n",
              "std      7.810641e+04\n",
              "min      1.200000e+03\n",
              "25%      1.000000e+04\n",
              "50%      1.600000e+04\n",
              "75%      3.300000e+04\n",
              "max      3.500000e+06\n",
              "Name: Rent, dtype: float64"
            ]
          },
          "metadata": {},
          "execution_count": 4
        }
      ]
    },
    {
      "cell_type": "markdown",
      "source": [
        "There are twelve features, 7 fundamentally categorical, 4 (Posted On, BHK, Size, Bathroom) numerical, and the one planned label, Rent. Based on this setup, I suspect random forests will provide a lot of good info. Let's first find out how many categories the categorical features represent."
      ],
      "metadata": {
        "id": "Ic1AQd2sahba"
      }
    },
    {
      "cell_type": "code",
      "source": [
        "categorical_features = [\"Floor\", \"Area Type\", \"Area Locality\", \n",
        "                        \"City\", \"Furnishing Status\", \"Tenant Preferred\", \"Point of Contact\"]\n",
        "numerical_features = [\"Posted On\", \"BHK\", \"Size\", \"Bathroom\"]\n",
        "label = [\"Rent\"]"
      ],
      "metadata": {
        "execution": {
          "iopub.status.busy": "2022-09-25T20:46:32.958040Z",
          "iopub.execute_input": "2022-09-25T20:46:32.958474Z",
          "iopub.status.idle": "2022-09-25T20:46:32.964544Z",
          "shell.execute_reply.started": "2022-09-25T20:46:32.958439Z",
          "shell.execute_reply": "2022-09-25T20:46:32.963225Z"
        },
        "trusted": true,
        "id": "tXuWaYqIahbc"
      },
      "execution_count": 5,
      "outputs": []
    },
    {
      "cell_type": "code",
      "source": [
        "for feature in categorical_features:\n",
        "    print(feature, \" takes \", len(df[feature].unique()), \"unique values.\")"
      ],
      "metadata": {
        "execution": {
          "iopub.status.busy": "2022-09-25T20:46:32.966349Z",
          "iopub.execute_input": "2022-09-25T20:46:32.966757Z",
          "iopub.status.idle": "2022-09-25T20:46:32.984128Z",
          "shell.execute_reply.started": "2022-09-25T20:46:32.966722Z",
          "shell.execute_reply": "2022-09-25T20:46:32.982433Z"
        },
        "trusted": true,
        "colab": {
          "base_uri": "https://localhost:8080/"
        },
        "id": "PDi737jbahbd",
        "outputId": "30664c74-9338-49c3-c6d3-6b8521b5bd7d"
      },
      "execution_count": 6,
      "outputs": [
        {
          "output_type": "stream",
          "name": "stdout",
          "text": [
            "Floor  takes  480 unique values.\n",
            "Area Type  takes  3 unique values.\n",
            "Area Locality  takes  2235 unique values.\n",
            "City  takes  6 unique values.\n",
            "Furnishing Status  takes  3 unique values.\n",
            "Tenant Preferred  takes  3 unique values.\n",
            "Point of Contact  takes  3 unique values.\n"
          ]
        }
      ]
    },
    {
      "cell_type": "markdown",
      "source": [
        "There are way too many Area Locality features to include without very careful regularization.\n",
        "In future work, it may make sense to create numerical variables latitude and longitude out of the Area Locality, but I will simply drop it in this version. Floor is more subtle, and we can do a little feature engineering with it."
      ],
      "metadata": {
        "id": "UpxP9-aPahbe"
      }
    },
    {
      "cell_type": "code",
      "source": [
        "df[\"Floor\"].unique()"
      ],
      "metadata": {
        "execution": {
          "iopub.status.busy": "2022-09-25T20:46:32.985317Z",
          "iopub.execute_input": "2022-09-25T20:46:32.985679Z",
          "iopub.status.idle": "2022-09-25T20:46:32.998521Z",
          "shell.execute_reply.started": "2022-09-25T20:46:32.985647Z",
          "shell.execute_reply": "2022-09-25T20:46:32.997387Z"
        },
        "trusted": true,
        "colab": {
          "base_uri": "https://localhost:8080/"
        },
        "id": "fKSwMpiGahbf",
        "outputId": "d42ff0a2-6dbf-41f1-f252-e64be12c5a33"
      },
      "execution_count": 7,
      "outputs": [
        {
          "output_type": "execute_result",
          "data": {
            "text/plain": [
              "array(['Ground out of 2', '1 out of 3', '1 out of 2', 'Ground out of 1',\n",
              "       'Ground out of 4', '1 out of 4', '1 out of 1', 'Ground out of 3',\n",
              "       '2 out of 3', '4 out of 5', '2 out of 2', '2 out of 5',\n",
              "       '4 out of 14', '3 out of 3', '5 out of 5', '4 out of 4',\n",
              "       '7 out of 8', '2 out of 4', '3 out of 4', '1 out of 5',\n",
              "       '8 out of 5', 'Ground out of 6', '2 out of 1',\n",
              "       'Upper Basement out of 4', 'Ground out of 5', '3 out of 5',\n",
              "       '11 out of 19', '5 out of 10', '11 out of 14',\n",
              "       'Lower Basement out of 2', '2 out of 7', '4 out of 10',\n",
              "       '7 out of 10', '2 out of 13', '6 out of 7', '4 out of 7',\n",
              "       '14 out of 14', '43 out of 78', '2 out of 8', '13 out of 18',\n",
              "       '5 out of 12', '18 out of 24', '3 out of 7', '17 out of 31',\n",
              "       '11 out of 21', '7 out of 19', '14 out of 23', '9 out of 20',\n",
              "       'Upper Basement out of 9', '19 out of 24', '3 out of 21',\n",
              "       '1 out of 22', '8 out of 8', '6 out of 12', '4 out of 58',\n",
              "       'Upper Basement out of 16', '60 out of 66', '34 out of 48',\n",
              "       '5 out of 8', '5 out of 14', '14 out of 40', '5 out of 7',\n",
              "       '9 out of 22', '12 out of 18', '26 out of 44', '1 out of 8',\n",
              "       '25 out of 42', '25 out of 41', '53 out of 78', 'Ground out of 7',\n",
              "       '14 out of 20', '13 out of 20', '16 out of 23', '10 out of 18',\n",
              "       '39 out of 60', '16 out of 21', '10 out of 32', '4 out of 8',\n",
              "       '12 out of 24', '32 out of 41', '3 out of 30', '13 out of 21',\n",
              "       '9 out of 29', '47 out of 89', '7 out of 41', '28 out of 30',\n",
              "       '13 out of 15', '6 out of 21', '8 out of 16', '2 out of 6',\n",
              "       '5 out of 19', '3 out of 11', '17 out of 42', '10 out of 12',\n",
              "       '8 out of 28', '9 out of 15', '14 out of 22', '18 out of 40',\n",
              "       '9 out of 17', '12 out of 45', '25 out of 35', '7 out of 15',\n",
              "       '10 out of 16', 'Upper Basement out of 20', '5 out of 20',\n",
              "       'Upper Basement out of 40', '5 out of 18', '34 out of 58',\n",
              "       '4 out of 6', '20 out of 22', '12 out of 19', '15 out of 18',\n",
              "       '65 out of 78', '6 out of 16', '17 out of 22', '6 out of 24',\n",
              "       '40 out of 75', '19 out of 38', '15 out of 31', '11 out of 28',\n",
              "       '10 out of 22', '17 out of 24', '15 out of 19', '9 out of 10',\n",
              "       '7 out of 12', '8 out of 20', '11 out of 13', '9 out of 19',\n",
              "       '37 out of 51', '6 out of 11', '8 out of 15', '11 out of 20',\n",
              "       '10 out of 23', 'Upper Basement out of 10', '7 out of 23',\n",
              "       '4 out of 11', '17 out of 43', '7 out of 22', '14 out of 18',\n",
              "       '6 out of 10', '8 out of 12', '3 out of 18', '7 out of 7',\n",
              "       '14 out of 58', '18 out of 23', '19 out of 19', '13 out of 14',\n",
              "       '7 out of 11', '11 out of 22', 'Upper Basement out of 30',\n",
              "       '12 out of 14', '16 out of 31', '12 out of 13', '11 out of 51',\n",
              "       '2 out of 12', '22 out of 24', '7 out of 14', '5 out of 13',\n",
              "       '7 out of 21', '14 out of 21', '17 out of 25', '9 out of 14',\n",
              "       '8 out of 27', '3 out of 6', '17 out of 20', '18 out of 22',\n",
              "       '1 out of 7', '9 out of 30', '3 out of 8', '11 out of 26',\n",
              "       '17 out of 27', '4 out of 12', '12 out of 16', '10 out of 24',\n",
              "       '65 out of 76', '7 out of 9', '17 out of 60', '10 out of 11',\n",
              "       '18 out of 25', '5 out of 11', '15 out of 17', '15 out of 23',\n",
              "       '5 out of 17', '3 out of 28', '5 out of 24', '16 out of 32',\n",
              "       '21 out of 22', '7 out of 13', '9 out of 12', '15 out of 32',\n",
              "       '18 out of 27', '15 out of 16', '18 out of 45', '15 out of 15',\n",
              "       '6 out of 14', '1 out of 20', '16 out of 36', '30 out of 44',\n",
              "       '30 out of 37', '2 out of 9', '12 out of 22', '4 out of 9',\n",
              "       '2 out of 22', '5 out of 6', '6 out of 18', '35 out of 55',\n",
              "       '16 out of 29', '30 out of 45', '5 out of 9', '16 out of 25',\n",
              "       '33 out of 42', '4 out of 16', '13 out of 23', '9 out of 38',\n",
              "       '6 out of 8', '8 out of 13', '19 out of 30', '10 out of 14',\n",
              "       '11 out of 24', '9 out of 16', '9 out of 31', '4 out of 15',\n",
              "       '3 out of 9', '22 out of 30', '3 out of 58', '1 out of 9',\n",
              "       '53 out of 60', '5 out of 22', '15 out of 22', '19 out of 21',\n",
              "       '9 out of 40', 'Ground out of 8', '44 out of 75', '8 out of 17',\n",
              "       '3 out of 14', '12 out of 31', '26 out of 42', '2 out of 45',\n",
              "       '12 out of 68', '17 out of 36', '10 out of 28', '41 out of 41',\n",
              "       '14 out of 68', '14 out of 17', '15 out of 20', '46 out of 76',\n",
              "       '12 out of 20', '20 out of 30', '18 out of 32', '10 out of 25',\n",
              "       '17 out of 29', '10 out of 31', '10 out of 15', '13 out of 16',\n",
              "       '8 out of 10', '18 out of 21', '27 out of 58', '1 out of 6',\n",
              "       '19 out of 25', '3 out of 15', '25 out of 43', '8 out of 14',\n",
              "       '11 out of 12', '9 out of 21', '10 out of 13', '45 out of 77',\n",
              "       '18 out of 19', '10 out of 20', '12 out of 29',\n",
              "       'Lower Basement out of 18', '15 out of 24', '48 out of 68',\n",
              "       '12 out of 42', '16 out of 22', '35 out of 68', '18 out of 30',\n",
              "       '11 out of 31', '50 out of 75', '18 out of 26', '12 out of 27',\n",
              "       '16 out of 20', '24 out of 55', '16 out of 37',\n",
              "       'Upper Basement out of 7', '6 out of 15', '11 out of 27',\n",
              "       '11 out of 23', '3 out of 12', '14 out of 15', '23 out of 25',\n",
              "       '14 out of 48', '29 out of 35', '15 out of 36', '15 out of 25',\n",
              "       '15 out of 28', '3 out of 36', '8 out of 11', '6 out of 20',\n",
              "       '23 out of 23', '5 out of 15', '16 out of 18', '2 out of 10',\n",
              "       '40 out of 50', '25 out of 28', '12 out of 17', '34 out of 40',\n",
              "       'Upper Basement out of 22', '8 out of 23', '5 out of 21',\n",
              "       '32 out of 59', '20 out of 32', '9 out of 18', '10 out of 37',\n",
              "       '25 out of 48', '4 out of 22', '8 out of 18', '11 out of 11',\n",
              "       '5 out of 23', '60 out of 77', '11 out of 18', '4 out of 20',\n",
              "       '5 out of 16', '3 out of 13', '30 out of 58', '15 out of 43',\n",
              "       '7 out of 16', '18 out of 28', '9 out of 55', '11 out of 25',\n",
              "       '49 out of 55', '7 out of 27', '14 out of 27', '16 out of 27',\n",
              "       '25 out of 50', '6 out of 30', '21 out of 23', '8 out of 58',\n",
              "       '20 out of 41', '3 out of 62', '4 out of 13', '7 out of 17',\n",
              "       '12 out of 21', '28 out of 39', '15 out of 58', '6 out of 23',\n",
              "       '36 out of 45', '9 out of 28', '6 out of 45', '22 out of 52',\n",
              "       '10 out of 19', '21 out of 58', '48 out of 54', '7 out of 28',\n",
              "       '11 out of 15', '19 out of 22', '15 out of 37', '2 out of 17',\n",
              "       '76 out of 78', '3 out of 10', '20 out of 27', '8 out of 36',\n",
              "       '14 out of 33', '21 out of 21', '12 out of 25', '18 out of 29',\n",
              "       '14 out of 35', '7 out of 20', '20 out of 37', '9 out of 35',\n",
              "       '27 out of 27', '15 out of 60', '19 out of 33', '18 out of 20',\n",
              "       '13 out of 40', '9 out of 11', '8 out of 22', '6 out of 13',\n",
              "       '20 out of 31', '27 out of 45', '19 out of 20', '32 out of 46',\n",
              "       '19 out of 85', '3 out of 23', '34 out of 46', '4 out of 27',\n",
              "       '19 out of 27', '35 out of 60', '21 out of 33', '25 out of 52',\n",
              "       '2 out of 24', '24 out of 24', '18 out of 33', '1 out of 10',\n",
              "       '45 out of 60', '60 out of 71', '36 out of 81', '24 out of 60',\n",
              "       '16 out of 38', '8 out of 45', 'Ground out of 16', '8 out of 32',\n",
              "       '10 out of 10', '23 out of 40', '7 out of 18', '8 out of 19',\n",
              "       '6 out of 17', '16 out of 34', 'Ground out of 12', '6 out of 9',\n",
              "       'Ground out of 18', '20 out of 25', '3 out of 22', '9 out of 32',\n",
              "       '26 out of 32', '17 out of 18', '24 out of 25', '19 out of 26',\n",
              "       '17 out of 19', '1 out of 13', '14 out of 30', '8 out of 9',\n",
              "       '3 out of 17', 'Lower Basement out of 3', '12 out of 23',\n",
              "       'Ground out of 9', '1 out of 24', '1 out of 12', '3', 'Ground',\n",
              "       '15 out of 29', '20 out of 20', '14 out of 29',\n",
              "       'Lower Basement out of 1', '13 out of 17', '1 out of 14',\n",
              "       'Upper Basement out of 2', '2 out of 14', '24 out of 31',\n",
              "       '2 out of 32', '2 out of 16', '9 out of 13', '1 out of 11',\n",
              "       '6 out of 29', '9 out of 9', '28 out of 31', '1 out of 15',\n",
              "       'Ground out of 14', '2 out of 11', '19 out of 31', '1 out of 16',\n",
              "       '25 out of 32', '11 out of 16', '11 out of 17',\n",
              "       'Upper Basement out of 3', '4 out of 24', '1 out of 19',\n",
              "       '7 out of 30', '16 out of 19', 'Upper Basement out of 5',\n",
              "       'Ground out of 13', '2 out of 25', '23 out of 30', '4 out of 30',\n",
              "       '13 out of 25', '23 out of 35', 'Ground out of 10', '5 out of 34',\n",
              "       '20 out of 35', '1', '4 out of 31', '4 out of 26', '24 out of 33',\n",
              "       '4 out of 17', '1 out of 35', '11 out of 35', 'Ground out of 15',\n",
              "       'Ground out of 27', '15 out of 30', '12 out of 30', '23 out of 34'],\n",
              "      dtype=object)"
            ]
          },
          "metadata": {},
          "execution_count": 7
        }
      ]
    },
    {
      "cell_type": "markdown",
      "source": [
        "For Floor it seems plausible that it's worthwhile to identify basement, ground, and otherwise apartments. So let's make new features."
      ],
      "metadata": {
        "id": "u2MaHDUnahbf"
      }
    },
    {
      "cell_type": "code",
      "source": [
        "df=df.assign(Basement =  df.Floor.str.contains(\"Basement\"))\n",
        "df=df.assign(Ground = df.Floor.str.contains(\"Ground\"))\n",
        "def b_or_g(row):\n",
        "    for c in [\"Basement\", \"Ground\"]:\n",
        "        if row[c]:\n",
        "            return c\n",
        "    return None\n",
        "df = df.assign(BG = df.apply(b_or_g, axis=1))\n",
        "df.head()"
      ],
      "metadata": {
        "execution": {
          "iopub.status.busy": "2022-09-25T20:46:32.999773Z",
          "iopub.execute_input": "2022-09-25T20:46:33.001273Z",
          "iopub.status.idle": "2022-09-25T20:46:33.110471Z",
          "shell.execute_reply.started": "2022-09-25T20:46:33.001228Z",
          "shell.execute_reply": "2022-09-25T20:46:33.109098Z"
        },
        "trusted": true,
        "colab": {
          "base_uri": "https://localhost:8080/",
          "height": 354
        },
        "id": "z_xQnckOahbg",
        "outputId": "f4ed94af-e6ce-4788-ae63-f39eac846d72"
      },
      "execution_count": 8,
      "outputs": [
        {
          "output_type": "execute_result",
          "data": {
            "text/plain": [
              "    Posted On  BHK   Rent  Size            Floor    Area Type  \\\n",
              "0  2022-05-18    2  10000  1100  Ground out of 2   Super Area   \n",
              "1  2022-05-13    2  20000   800       1 out of 3   Super Area   \n",
              "2  2022-05-16    2  17000  1000       1 out of 3   Super Area   \n",
              "3  2022-07-04    2  10000   800       1 out of 2   Super Area   \n",
              "4  2022-05-09    2   7500   850       1 out of 2  Carpet Area   \n",
              "\n",
              "              Area Locality     City Furnishing Status  Tenant Preferred  \\\n",
              "0                    Bandel  Kolkata       Unfurnished  Bachelors/Family   \n",
              "1  Phool Bagan, Kankurgachi  Kolkata    Semi-Furnished  Bachelors/Family   \n",
              "2   Salt Lake City Sector 2  Kolkata    Semi-Furnished  Bachelors/Family   \n",
              "3               Dumdum Park  Kolkata       Unfurnished  Bachelors/Family   \n",
              "4             South Dum Dum  Kolkata       Unfurnished         Bachelors   \n",
              "\n",
              "   Bathroom Point of Contact  Basement  Ground      BG  \n",
              "0         2    Contact Owner     False    True  Ground  \n",
              "1         1    Contact Owner     False   False    None  \n",
              "2         1    Contact Owner     False   False    None  \n",
              "3         1    Contact Owner     False   False    None  \n",
              "4         1    Contact Owner     False   False    None  "
            ],
            "text/html": [
              "\n",
              "  <div id=\"df-ce0c681f-11c3-4e76-8a60-e5704f1e5903\">\n",
              "    <div class=\"colab-df-container\">\n",
              "      <div>\n",
              "<style scoped>\n",
              "    .dataframe tbody tr th:only-of-type {\n",
              "        vertical-align: middle;\n",
              "    }\n",
              "\n",
              "    .dataframe tbody tr th {\n",
              "        vertical-align: top;\n",
              "    }\n",
              "\n",
              "    .dataframe thead th {\n",
              "        text-align: right;\n",
              "    }\n",
              "</style>\n",
              "<table border=\"1\" class=\"dataframe\">\n",
              "  <thead>\n",
              "    <tr style=\"text-align: right;\">\n",
              "      <th></th>\n",
              "      <th>Posted On</th>\n",
              "      <th>BHK</th>\n",
              "      <th>Rent</th>\n",
              "      <th>Size</th>\n",
              "      <th>Floor</th>\n",
              "      <th>Area Type</th>\n",
              "      <th>Area Locality</th>\n",
              "      <th>City</th>\n",
              "      <th>Furnishing Status</th>\n",
              "      <th>Tenant Preferred</th>\n",
              "      <th>Bathroom</th>\n",
              "      <th>Point of Contact</th>\n",
              "      <th>Basement</th>\n",
              "      <th>Ground</th>\n",
              "      <th>BG</th>\n",
              "    </tr>\n",
              "  </thead>\n",
              "  <tbody>\n",
              "    <tr>\n",
              "      <th>0</th>\n",
              "      <td>2022-05-18</td>\n",
              "      <td>2</td>\n",
              "      <td>10000</td>\n",
              "      <td>1100</td>\n",
              "      <td>Ground out of 2</td>\n",
              "      <td>Super Area</td>\n",
              "      <td>Bandel</td>\n",
              "      <td>Kolkata</td>\n",
              "      <td>Unfurnished</td>\n",
              "      <td>Bachelors/Family</td>\n",
              "      <td>2</td>\n",
              "      <td>Contact Owner</td>\n",
              "      <td>False</td>\n",
              "      <td>True</td>\n",
              "      <td>Ground</td>\n",
              "    </tr>\n",
              "    <tr>\n",
              "      <th>1</th>\n",
              "      <td>2022-05-13</td>\n",
              "      <td>2</td>\n",
              "      <td>20000</td>\n",
              "      <td>800</td>\n",
              "      <td>1 out of 3</td>\n",
              "      <td>Super Area</td>\n",
              "      <td>Phool Bagan, Kankurgachi</td>\n",
              "      <td>Kolkata</td>\n",
              "      <td>Semi-Furnished</td>\n",
              "      <td>Bachelors/Family</td>\n",
              "      <td>1</td>\n",
              "      <td>Contact Owner</td>\n",
              "      <td>False</td>\n",
              "      <td>False</td>\n",
              "      <td>None</td>\n",
              "    </tr>\n",
              "    <tr>\n",
              "      <th>2</th>\n",
              "      <td>2022-05-16</td>\n",
              "      <td>2</td>\n",
              "      <td>17000</td>\n",
              "      <td>1000</td>\n",
              "      <td>1 out of 3</td>\n",
              "      <td>Super Area</td>\n",
              "      <td>Salt Lake City Sector 2</td>\n",
              "      <td>Kolkata</td>\n",
              "      <td>Semi-Furnished</td>\n",
              "      <td>Bachelors/Family</td>\n",
              "      <td>1</td>\n",
              "      <td>Contact Owner</td>\n",
              "      <td>False</td>\n",
              "      <td>False</td>\n",
              "      <td>None</td>\n",
              "    </tr>\n",
              "    <tr>\n",
              "      <th>3</th>\n",
              "      <td>2022-07-04</td>\n",
              "      <td>2</td>\n",
              "      <td>10000</td>\n",
              "      <td>800</td>\n",
              "      <td>1 out of 2</td>\n",
              "      <td>Super Area</td>\n",
              "      <td>Dumdum Park</td>\n",
              "      <td>Kolkata</td>\n",
              "      <td>Unfurnished</td>\n",
              "      <td>Bachelors/Family</td>\n",
              "      <td>1</td>\n",
              "      <td>Contact Owner</td>\n",
              "      <td>False</td>\n",
              "      <td>False</td>\n",
              "      <td>None</td>\n",
              "    </tr>\n",
              "    <tr>\n",
              "      <th>4</th>\n",
              "      <td>2022-05-09</td>\n",
              "      <td>2</td>\n",
              "      <td>7500</td>\n",
              "      <td>850</td>\n",
              "      <td>1 out of 2</td>\n",
              "      <td>Carpet Area</td>\n",
              "      <td>South Dum Dum</td>\n",
              "      <td>Kolkata</td>\n",
              "      <td>Unfurnished</td>\n",
              "      <td>Bachelors</td>\n",
              "      <td>1</td>\n",
              "      <td>Contact Owner</td>\n",
              "      <td>False</td>\n",
              "      <td>False</td>\n",
              "      <td>None</td>\n",
              "    </tr>\n",
              "  </tbody>\n",
              "</table>\n",
              "</div>\n",
              "      <button class=\"colab-df-convert\" onclick=\"convertToInteractive('df-ce0c681f-11c3-4e76-8a60-e5704f1e5903')\"\n",
              "              title=\"Convert this dataframe to an interactive table.\"\n",
              "              style=\"display:none;\">\n",
              "        \n",
              "  <svg xmlns=\"http://www.w3.org/2000/svg\" height=\"24px\"viewBox=\"0 0 24 24\"\n",
              "       width=\"24px\">\n",
              "    <path d=\"M0 0h24v24H0V0z\" fill=\"none\"/>\n",
              "    <path d=\"M18.56 5.44l.94 2.06.94-2.06 2.06-.94-2.06-.94-.94-2.06-.94 2.06-2.06.94zm-11 1L8.5 8.5l.94-2.06 2.06-.94-2.06-.94L8.5 2.5l-.94 2.06-2.06.94zm10 10l.94 2.06.94-2.06 2.06-.94-2.06-.94-.94-2.06-.94 2.06-2.06.94z\"/><path d=\"M17.41 7.96l-1.37-1.37c-.4-.4-.92-.59-1.43-.59-.52 0-1.04.2-1.43.59L10.3 9.45l-7.72 7.72c-.78.78-.78 2.05 0 2.83L4 21.41c.39.39.9.59 1.41.59.51 0 1.02-.2 1.41-.59l7.78-7.78 2.81-2.81c.8-.78.8-2.07 0-2.86zM5.41 20L4 18.59l7.72-7.72 1.47 1.35L5.41 20z\"/>\n",
              "  </svg>\n",
              "      </button>\n",
              "      \n",
              "  <style>\n",
              "    .colab-df-container {\n",
              "      display:flex;\n",
              "      flex-wrap:wrap;\n",
              "      gap: 12px;\n",
              "    }\n",
              "\n",
              "    .colab-df-convert {\n",
              "      background-color: #E8F0FE;\n",
              "      border: none;\n",
              "      border-radius: 50%;\n",
              "      cursor: pointer;\n",
              "      display: none;\n",
              "      fill: #1967D2;\n",
              "      height: 32px;\n",
              "      padding: 0 0 0 0;\n",
              "      width: 32px;\n",
              "    }\n",
              "\n",
              "    .colab-df-convert:hover {\n",
              "      background-color: #E2EBFA;\n",
              "      box-shadow: 0px 1px 2px rgba(60, 64, 67, 0.3), 0px 1px 3px 1px rgba(60, 64, 67, 0.15);\n",
              "      fill: #174EA6;\n",
              "    }\n",
              "\n",
              "    [theme=dark] .colab-df-convert {\n",
              "      background-color: #3B4455;\n",
              "      fill: #D2E3FC;\n",
              "    }\n",
              "\n",
              "    [theme=dark] .colab-df-convert:hover {\n",
              "      background-color: #434B5C;\n",
              "      box-shadow: 0px 1px 3px 1px rgba(0, 0, 0, 0.15);\n",
              "      filter: drop-shadow(0px 1px 2px rgba(0, 0, 0, 0.3));\n",
              "      fill: #FFFFFF;\n",
              "    }\n",
              "  </style>\n",
              "\n",
              "      <script>\n",
              "        const buttonEl =\n",
              "          document.querySelector('#df-ce0c681f-11c3-4e76-8a60-e5704f1e5903 button.colab-df-convert');\n",
              "        buttonEl.style.display =\n",
              "          google.colab.kernel.accessAllowed ? 'block' : 'none';\n",
              "\n",
              "        async function convertToInteractive(key) {\n",
              "          const element = document.querySelector('#df-ce0c681f-11c3-4e76-8a60-e5704f1e5903');\n",
              "          const dataTable =\n",
              "            await google.colab.kernel.invokeFunction('convertToInteractive',\n",
              "                                                     [key], {});\n",
              "          if (!dataTable) return;\n",
              "\n",
              "          const docLinkHtml = 'Like what you see? Visit the ' +\n",
              "            '<a target=\"_blank\" href=https://colab.research.google.com/notebooks/data_table.ipynb>data table notebook</a>'\n",
              "            + ' to learn more about interactive tables.';\n",
              "          element.innerHTML = '';\n",
              "          dataTable['output_type'] = 'display_data';\n",
              "          await google.colab.output.renderOutput(dataTable, element);\n",
              "          const docLink = document.createElement('div');\n",
              "          docLink.innerHTML = docLinkHtml;\n",
              "          element.appendChild(docLink);\n",
              "        }\n",
              "      </script>\n",
              "    </div>\n",
              "  </div>\n",
              "  "
            ]
          },
          "metadata": {},
          "execution_count": 8
        }
      ]
    },
    {
      "cell_type": "code",
      "source": [
        "print(df.Basement.value_counts())\n",
        "print(df.Ground.value_counts())"
      ],
      "metadata": {
        "execution": {
          "iopub.status.busy": "2022-09-25T20:46:33.113950Z",
          "iopub.execute_input": "2022-09-25T20:46:33.114334Z",
          "iopub.status.idle": "2022-09-25T20:46:33.124162Z",
          "shell.execute_reply.started": "2022-09-25T20:46:33.114303Z",
          "shell.execute_reply": "2022-09-25T20:46:33.122778Z"
        },
        "trusted": true,
        "colab": {
          "base_uri": "https://localhost:8080/"
        },
        "id": "-KxL4otEahbh",
        "outputId": "d1538358-05ba-4af3-f36d-6b2df40cf5c7"
      },
      "execution_count": 9,
      "outputs": [
        {
          "output_type": "stream",
          "name": "stdout",
          "text": [
            "False    4712\n",
            "True       34\n",
            "Name: Basement, dtype: int64\n",
            "False    3819\n",
            "True      927\n",
            "Name: Ground, dtype: int64\n"
          ]
        }
      ]
    },
    {
      "cell_type": "code",
      "source": [
        "plt.scatter(x=df.BG.astype(str), y=df.Rent)\n",
        "plt.title(\"Rent vs ground or basement status\")"
      ],
      "metadata": {
        "execution": {
          "iopub.status.busy": "2022-09-25T20:46:33.126275Z",
          "iopub.execute_input": "2022-09-25T20:46:33.126684Z",
          "iopub.status.idle": "2022-09-25T20:46:33.369885Z",
          "shell.execute_reply.started": "2022-09-25T20:46:33.126631Z",
          "shell.execute_reply": "2022-09-25T20:46:33.368913Z"
        },
        "trusted": true,
        "colab": {
          "base_uri": "https://localhost:8080/",
          "height": 299
        },
        "id": "_20QVI_mahbi",
        "outputId": "b1770188-c1da-4bd2-85a8-360071969a33"
      },
      "execution_count": 10,
      "outputs": [
        {
          "output_type": "execute_result",
          "data": {
            "text/plain": [
              "Text(0.5, 1.0, 'Rent vs ground or basement status')"
            ]
          },
          "metadata": {},
          "execution_count": 10
        },
        {
          "output_type": "display_data",
          "data": {
            "text/plain": [
              "<Figure size 432x288 with 1 Axes>"
            ],
            "image/png": "[encoded data removed]"
          },
          "metadata": {
            "needs_background": "light"
          }
        }
      ]
    },
    {
      "cell_type": "markdown",
      "source": [
        " Nothing super fancy underground or on the ground floor! . That said, there is a big outlier, so let's take a look at that"
      ],
      "metadata": {
        "id": "N7GQr4P8ahbi"
      }
    },
    {
      "cell_type": "code",
      "source": [
        "df.sort_values(ascending = False, by=['Rent']).head()"
      ],
      "metadata": {
        "execution": {
          "iopub.status.busy": "2022-09-25T20:46:33.370997Z",
          "iopub.execute_input": "2022-09-25T20:46:33.372043Z",
          "iopub.status.idle": "2022-09-25T20:46:33.393670Z",
          "shell.execute_reply.started": "2022-09-25T20:46:33.372003Z",
          "shell.execute_reply": "2022-09-25T20:46:33.392429Z"
        },
        "trusted": true,
        "colab": {
          "base_uri": "https://localhost:8080/",
          "height": 354
        },
        "id": "8oWZwlJqahbj",
        "outputId": "2aad81ad-6280-4c6d-ea23-7d82436f11a9"
      },
      "execution_count": 11,
      "outputs": [
        {
          "output_type": "execute_result",
          "data": {
            "text/plain": [
              "       Posted On  BHK     Rent  Size         Floor    Area Type  \\\n",
              "1837  2022-06-08    3  3500000  2500    4 out of 4  Carpet Area   \n",
              "1001  2022-06-01    4  1200000  5000   4 out of 15  Carpet Area   \n",
              "827   2022-05-18    4  1000000  3064  18 out of 45  Carpet Area   \n",
              "1329  2022-06-23    4   850000  3200    2 out of 4  Carpet Area   \n",
              "1459  2022-06-27    4   700000  3200  24 out of 24  Carpet Area   \n",
              "\n",
              "                Area Locality       City Furnishing Status  Tenant Preferred  \\\n",
              "1837             Marathahalli  Bangalore    Semi-Furnished         Bachelors   \n",
              "1001                     Juhu     Mumbai    Semi-Furnished  Bachelors/Family   \n",
              "827     Raheja Artesia, Worli     Mumbai    Semi-Furnished            Family   \n",
              "1329             Breach Candy     Mumbai         Furnished  Bachelors/Family   \n",
              "1459  Lady Ratan Tower, Worli     Mumbai         Furnished  Bachelors/Family   \n",
              "\n",
              "      Bathroom Point of Contact  Basement  Ground    BG  \n",
              "1837         3    Contact Agent     False   False  None  \n",
              "1001         4    Contact Agent     False   False  None  \n",
              "827          4    Contact Agent     False   False  None  \n",
              "1329         4    Contact Agent     False   False  None  \n",
              "1459         4    Contact Agent     False   False  None  "
            ],
            "text/html": [
              "\n",
              "  <div id=\"df-779bede1-f535-4554-be58-6d5104bb86a9\">\n",
              "    <div class=\"colab-df-container\">\n",
              "      <div>\n",
              "<style scoped>\n",
              "    .dataframe tbody tr th:only-of-type {\n",
              "        vertical-align: middle;\n",
              "    }\n",
              "\n",
              "    .dataframe tbody tr th {\n",
              "        vertical-align: top;\n",
              "    }\n",
              "\n",
              "    .dataframe thead th {\n",
              "        text-align: right;\n",
              "    }\n",
              "</style>\n",
              "<table border=\"1\" class=\"dataframe\">\n",
              "  <thead>\n",
              "    <tr style=\"text-align: right;\">\n",
              "      <th></th>\n",
              "      <th>Posted On</th>\n",
              "      <th>BHK</th>\n",
              "      <th>Rent</th>\n",
              "      <th>Size</th>\n",
              "      <th>Floor</th>\n",
              "      <th>Area Type</th>\n",
              "      <th>Area Locality</th>\n",
              "      <th>City</th>\n",
              "      <th>Furnishing Status</th>\n",
              "      <th>Tenant Preferred</th>\n",
              "      <th>Bathroom</th>\n",
              "      <th>Point of Contact</th>\n",
              "      <th>Basement</th>\n",
              "      <th>Ground</th>\n",
              "      <th>BG</th>\n",
              "    </tr>\n",
              "  </thead>\n",
              "  <tbody>\n",
              "    <tr>\n",
              "      <th>1837</th>\n",
              "      <td>2022-06-08</td>\n",
              "      <td>3</td>\n",
              "      <td>3500000</td>\n",
              "      <td>2500</td>\n",
              "      <td>4 out of 4</td>\n",
              "      <td>Carpet Area</td>\n",
              "      <td>Marathahalli</td>\n",
              "      <td>Bangalore</td>\n",
              "      <td>Semi-Furnished</td>\n",
              "      <td>Bachelors</td>\n",
              "      <td>3</td>\n",
              "      <td>Contact Agent</td>\n",
              "      <td>False</td>\n",
              "      <td>False</td>\n",
              "      <td>None</td>\n",
              "    </tr>\n",
              "    <tr>\n",
              "      <th>1001</th>\n",
              "      <td>2022-06-01</td>\n",
              "      <td>4</td>\n",
              "      <td>1200000</td>\n",
              "      <td>5000</td>\n",
              "      <td>4 out of 15</td>\n",
              "      <td>Carpet Area</td>\n",
              "      <td>Juhu</td>\n",
              "      <td>Mumbai</td>\n",
              "      <td>Semi-Furnished</td>\n",
              "      <td>Bachelors/Family</td>\n",
              "      <td>4</td>\n",
              "      <td>Contact Agent</td>\n",
              "      <td>False</td>\n",
              "      <td>False</td>\n",
              "      <td>None</td>\n",
              "    </tr>\n",
              "    <tr>\n",
              "      <th>827</th>\n",
              "      <td>2022-05-18</td>\n",
              "      <td>4</td>\n",
              "      <td>1000000</td>\n",
              "      <td>3064</td>\n",
              "      <td>18 out of 45</td>\n",
              "      <td>Carpet Area</td>\n",
              "      <td>Raheja Artesia, Worli</td>\n",
              "      <td>Mumbai</td>\n",
              "      <td>Semi-Furnished</td>\n",
              "      <td>Family</td>\n",
              "      <td>4</td>\n",
              "      <td>Contact Agent</td>\n",
              "      <td>False</td>\n",
              "      <td>False</td>\n",
              "      <td>None</td>\n",
              "    </tr>\n",
              "    <tr>\n",
              "      <th>1329</th>\n",
              "      <td>2022-06-23</td>\n",
              "      <td>4</td>\n",
              "      <td>850000</td>\n",
              "      <td>3200</td>\n",
              "      <td>2 out of 4</td>\n",
              "      <td>Carpet Area</td>\n",
              "      <td>Breach Candy</td>\n",
              "      <td>Mumbai</td>\n",
              "      <td>Furnished</td>\n",
              "      <td>Bachelors/Family</td>\n",
              "      <td>4</td>\n",
              "      <td>Contact Agent</td>\n",
              "      <td>False</td>\n",
              "      <td>False</td>\n",
              "      <td>None</td>\n",
              "    </tr>\n",
              "    <tr>\n",
              "      <th>1459</th>\n",
              "      <td>2022-06-27</td>\n",
              "      <td>4</td>\n",
              "      <td>700000</td>\n",
              "      <td>3200</td>\n",
              "      <td>24 out of 24</td>\n",
              "      <td>Carpet Area</td>\n",
              "      <td>Lady Ratan Tower, Worli</td>\n",
              "      <td>Mumbai</td>\n",
              "      <td>Furnished</td>\n",
              "      <td>Bachelors/Family</td>\n",
              "      <td>4</td>\n",
              "      <td>Contact Agent</td>\n",
              "      <td>False</td>\n",
              "      <td>False</td>\n",
              "      <td>None</td>\n",
              "    </tr>\n",
              "  </tbody>\n",
              "</table>\n",
              "</div>\n",
              "      <button class=\"colab-df-convert\" onclick=\"convertToInteractive('df-779bede1-f535-4554-be58-6d5104bb86a9')\"\n",
              "              title=\"Convert this dataframe to an interactive table.\"\n",
              "              style=\"display:none;\">\n",
              "        \n",
              "  <svg xmlns=\"http://www.w3.org/2000/svg\" height=\"24px\"viewBox=\"0 0 24 24\"\n",
              "       width=\"24px\">\n",
              "    <path d=\"M0 0h24v24H0V0z\" fill=\"none\"/>\n",
              "    <path d=\"M18.56 5.44l.94 2.06.94-2.06 2.06-.94-2.06-.94-.94-2.06-.94 2.06-2.06.94zm-11 1L8.5 8.5l.94-2.06 2.06-.94-2.06-.94L8.5 2.5l-.94 2.06-2.06.94zm10 10l.94 2.06.94-2.06 2.06-.94-2.06-.94-.94-2.06-.94 2.06-2.06.94z\"/><path d=\"M17.41 7.96l-1.37-1.37c-.4-.4-.92-.59-1.43-.59-.52 0-1.04.2-1.43.59L10.3 9.45l-7.72 7.72c-.78.78-.78 2.05 0 2.83L4 21.41c.39.39.9.59 1.41.59.51 0 1.02-.2 1.41-.59l7.78-7.78 2.81-2.81c.8-.78.8-2.07 0-2.86zM5.41 20L4 18.59l7.72-7.72 1.47 1.35L5.41 20z\"/>\n",
              "  </svg>\n",
              "      </button>\n",
              "      \n",
              "  <style>\n",
              "    .colab-df-container {\n",
              "      display:flex;\n",
              "      flex-wrap:wrap;\n",
              "      gap: 12px;\n",
              "    }\n",
              "\n",
              "    .colab-df-convert {\n",
              "      background-color: #E8F0FE;\n",
              "      border: none;\n",
              "      border-radius: 50%;\n",
              "      cursor: pointer;\n",
              "      display: none;\n",
              "      fill: #1967D2;\n",
              "      height: 32px;\n",
              "      padding: 0 0 0 0;\n",
              "      width: 32px;\n",
              "    }\n",
              "\n",
              "    .colab-df-convert:hover {\n",
              "      background-color: #E2EBFA;\n",
              "      box-shadow: 0px 1px 2px rgba(60, 64, 67, 0.3), 0px 1px 3px 1px rgba(60, 64, 67, 0.15);\n",
              "      fill: #174EA6;\n",
              "    }\n",
              "\n",
              "    [theme=dark] .colab-df-convert {\n",
              "      background-color: #3B4455;\n",
              "      fill: #D2E3FC;\n",
              "    }\n",
              "\n",
              "    [theme=dark] .colab-df-convert:hover {\n",
              "      background-color: #434B5C;\n",
              "      box-shadow: 0px 1px 3px 1px rgba(0, 0, 0, 0.15);\n",
              "      filter: drop-shadow(0px 1px 2px rgba(0, 0, 0, 0.3));\n",
              "      fill: #FFFFFF;\n",
              "    }\n",
              "  </style>\n",
              "\n",
              "      <script>\n",
              "        const buttonEl =\n",
              "          document.querySelector('#df-779bede1-f535-4554-be58-6d5104bb86a9 button.colab-df-convert');\n",
              "        buttonEl.style.display =\n",
              "          google.colab.kernel.accessAllowed ? 'block' : 'none';\n",
              "\n",
              "        async function convertToInteractive(key) {\n",
              "          const element = document.querySelector('#df-779bede1-f535-4554-be58-6d5104bb86a9');\n",
              "          const dataTable =\n",
              "            await google.colab.kernel.invokeFunction('convertToInteractive',\n",
              "                                                     [key], {});\n",
              "          if (!dataTable) return;\n",
              "\n",
              "          const docLinkHtml = 'Like what you see? Visit the ' +\n",
              "            '<a target=\"_blank\" href=https://colab.research.google.com/notebooks/data_table.ipynb>data table notebook</a>'\n",
              "            + ' to learn more about interactive tables.';\n",
              "          element.innerHTML = '';\n",
              "          dataTable['output_type'] = 'display_data';\n",
              "          await google.colab.output.renderOutput(dataTable, element);\n",
              "          const docLink = document.createElement('div');\n",
              "          docLink.innerHTML = docLinkHtml;\n",
              "          element.appendChild(docLink);\n",
              "        }\n",
              "      </script>\n",
              "    </div>\n",
              "  </div>\n",
              "  "
            ]
          },
          "metadata": {},
          "execution_count": 11
        }
      ]
    },
    {
      "cell_type": "markdown",
      "source": [
        "That is one big outlier rent-wise. Luckily, with random forests, it would take some serious overfitting for that to matter, though it may cause some artificially high errors we'll have to take into account. Let's now see how predictive these features are."
      ],
      "metadata": {
        "id": "q_uqhy0Xahbj"
      }
    },
    {
      "cell_type": "code",
      "source": [
        "corr = df.corr()\n",
        "sns.heatmap(corr, \n",
        "        xticklabels=corr.columns,\n",
        "        yticklabels=corr.columns)"
      ],
      "metadata": {
        "execution": {
          "iopub.status.busy": "2022-09-25T20:46:33.395036Z",
          "iopub.execute_input": "2022-09-25T20:46:33.395359Z",
          "iopub.status.idle": "2022-09-25T20:46:33.706098Z",
          "shell.execute_reply.started": "2022-09-25T20:46:33.395330Z",
          "shell.execute_reply": "2022-09-25T20:46:33.704670Z"
        },
        "trusted": true,
        "colab": {
          "base_uri": "https://localhost:8080/",
          "height": 328
        },
        "id": "kIJYaaljahbj",
        "outputId": "20eef3f4-3810-4fe2-f2ae-91e2729f6c64"
      },
      "execution_count": 12,
      "outputs": [
        {
          "output_type": "execute_result",
          "data": {
            "text/plain": [
              "<matplotlib.axes._subplots.AxesSubplot at 0x7fd022e57310>"
            ]
          },
          "metadata": {},
          "execution_count": 12
        },
        {
          "output_type": "display_data",
          "data": {
            "text/plain": [
              "<Figure size 432x288 with 2 Axes>"
            ],
            "image/png": "[encoded data removed]"
          },
          "metadata": {
            "needs_background": "light"
          }
        }
      ]
    },
    {
      "cell_type": "markdown",
      "source": [
        "The Basement and Ground features do nont particularly correlate with the other features, I suspect mostly because there are so few of them. Unsurprisingly, Size is very important. Next, let's handle dates."
      ],
      "metadata": {
        "id": "F8GpVfRaahbk"
      }
    },
    {
      "cell_type": "code",
      "source": [
        "sorted(df['Posted On'].unique())"
      ],
      "metadata": {
        "execution": {
          "iopub.status.busy": "2022-09-25T20:46:33.708138Z",
          "iopub.execute_input": "2022-09-25T20:46:33.708890Z",
          "iopub.status.idle": "2022-09-25T20:46:33.719002Z",
          "shell.execute_reply.started": "2022-09-25T20:46:33.708818Z",
          "shell.execute_reply": "2022-09-25T20:46:33.717782Z"
        },
        "trusted": true,
        "colab": {
          "base_uri": "https://localhost:8080/"
        },
        "id": "xNZ7bBIlahbk",
        "outputId": "4f683aea-c2b2-46f0-a4ef-28c8900bc4a5"
      },
      "execution_count": 13,
      "outputs": [
        {
          "output_type": "execute_result",
          "data": {
            "text/plain": [
              "['2022-04-13',\n",
              " '2022-04-23',\n",
              " '2022-04-24',\n",
              " '2022-04-25',\n",
              " '2022-04-26',\n",
              " '2022-04-27',\n",
              " '2022-04-28',\n",
              " '2022-04-29',\n",
              " '2022-04-30',\n",
              " '2022-05-01',\n",
              " '2022-05-02',\n",
              " '2022-05-03',\n",
              " '2022-05-04',\n",
              " '2022-05-05',\n",
              " '2022-05-06',\n",
              " '2022-05-07',\n",
              " '2022-05-08',\n",
              " '2022-05-09',\n",
              " '2022-05-10',\n",
              " '2022-05-11',\n",
              " '2022-05-12',\n",
              " '2022-05-13',\n",
              " '2022-05-14',\n",
              " '2022-05-15',\n",
              " '2022-05-16',\n",
              " '2022-05-17',\n",
              " '2022-05-18',\n",
              " '2022-05-19',\n",
              " '2022-05-20',\n",
              " '2022-05-21',\n",
              " '2022-05-22',\n",
              " '2022-05-23',\n",
              " '2022-05-24',\n",
              " '2022-05-25',\n",
              " '2022-05-26',\n",
              " '2022-05-27',\n",
              " '2022-05-28',\n",
              " '2022-05-29',\n",
              " '2022-05-30',\n",
              " '2022-05-31',\n",
              " '2022-06-01',\n",
              " '2022-06-02',\n",
              " '2022-06-03',\n",
              " '2022-06-04',\n",
              " '2022-06-05',\n",
              " '2022-06-06',\n",
              " '2022-06-07',\n",
              " '2022-06-08',\n",
              " '2022-06-09',\n",
              " '2022-06-10',\n",
              " '2022-06-11',\n",
              " '2022-06-12',\n",
              " '2022-06-13',\n",
              " '2022-06-14',\n",
              " '2022-06-15',\n",
              " '2022-06-16',\n",
              " '2022-06-17',\n",
              " '2022-06-18',\n",
              " '2022-06-19',\n",
              " '2022-06-20',\n",
              " '2022-06-21',\n",
              " '2022-06-22',\n",
              " '2022-06-23',\n",
              " '2022-06-24',\n",
              " '2022-06-25',\n",
              " '2022-06-26',\n",
              " '2022-06-27',\n",
              " '2022-06-28',\n",
              " '2022-06-29',\n",
              " '2022-06-30',\n",
              " '2022-07-01',\n",
              " '2022-07-02',\n",
              " '2022-07-03',\n",
              " '2022-07-04',\n",
              " '2022-07-05',\n",
              " '2022-07-06',\n",
              " '2022-07-07',\n",
              " '2022-07-08',\n",
              " '2022-07-09',\n",
              " '2022-07-10',\n",
              " '2022-07-11']"
            ]
          },
          "metadata": {},
          "execution_count": 13
        }
      ]
    },
    {
      "cell_type": "markdown",
      "source": [
        "The days here  represent a three month period. This is clearly numerical data, and can likely be cleaned and made relevant. Pandas can handle this. "
      ],
      "metadata": {
        "id": "1W8BnB_6ahbk"
      }
    },
    {
      "cell_type": "code",
      "source": [
        "def count_days(startDate, endDate):\n",
        "    return (pd.to_datetime(endDate, format = \"%Y-%m-%d\") - \n",
        "            pd.to_datetime(startDate, format = \"%Y-%m-%d\")).dt.days\n",
        "df = df.assign(Day = lambda x: count_days(\"2022-04-13\", x[\"Posted On\"]))"
      ],
      "metadata": {
        "execution": {
          "iopub.status.busy": "2022-09-25T20:46:33.720570Z",
          "iopub.execute_input": "2022-09-25T20:46:33.721685Z",
          "iopub.status.idle": "2022-09-25T20:46:33.733684Z",
          "shell.execute_reply.started": "2022-09-25T20:46:33.721651Z",
          "shell.execute_reply": "2022-09-25T20:46:33.732273Z"
        },
        "trusted": true,
        "id": "_esSvf15ahbl"
      },
      "execution_count": 14,
      "outputs": []
    },
    {
      "cell_type": "code",
      "source": [
        "df.head()"
      ],
      "metadata": {
        "execution": {
          "iopub.status.busy": "2022-09-25T20:46:33.734967Z",
          "iopub.execute_input": "2022-09-25T20:46:33.735307Z",
          "iopub.status.idle": "2022-09-25T20:46:33.754783Z",
          "shell.execute_reply.started": "2022-09-25T20:46:33.735277Z",
          "shell.execute_reply": "2022-09-25T20:46:33.753548Z"
        },
        "trusted": true,
        "colab": {
          "base_uri": "https://localhost:8080/",
          "height": 354
        },
        "id": "aouwk1jRahbl",
        "outputId": "c235ffaf-1e96-4921-ead2-967b8050bc77"
      },
      "execution_count": 15,
      "outputs": [
        {
          "output_type": "execute_result",
          "data": {
            "text/plain": [
              "    Posted On  BHK   Rent  Size            Floor    Area Type  \\\n",
              "0  2022-05-18    2  10000  1100  Ground out of 2   Super Area   \n",
              "1  2022-05-13    2  20000   800       1 out of 3   Super Area   \n",
              "2  2022-05-16    2  17000  1000       1 out of 3   Super Area   \n",
              "3  2022-07-04    2  10000   800       1 out of 2   Super Area   \n",
              "4  2022-05-09    2   7500   850       1 out of 2  Carpet Area   \n",
              "\n",
              "              Area Locality     City Furnishing Status  Tenant Preferred  \\\n",
              "0                    Bandel  Kolkata       Unfurnished  Bachelors/Family   \n",
              "1  Phool Bagan, Kankurgachi  Kolkata    Semi-Furnished  Bachelors/Family   \n",
              "2   Salt Lake City Sector 2  Kolkata    Semi-Furnished  Bachelors/Family   \n",
              "3               Dumdum Park  Kolkata       Unfurnished  Bachelors/Family   \n",
              "4             South Dum Dum  Kolkata       Unfurnished         Bachelors   \n",
              "\n",
              "   Bathroom Point of Contact  Basement  Ground      BG  Day  \n",
              "0         2    Contact Owner     False    True  Ground   35  \n",
              "1         1    Contact Owner     False   False    None   30  \n",
              "2         1    Contact Owner     False   False    None   33  \n",
              "3         1    Contact Owner     False   False    None   82  \n",
              "4         1    Contact Owner     False   False    None   26  "
            ],
            "text/html": [
              "\n",
              "  <div id=\"df-5b539e71-793e-4440-88b7-a4dafacc9980\">\n",
              "    <div class=\"colab-df-container\">\n",
              "      <div>\n",
              "<style scoped>\n",
              "    .dataframe tbody tr th:only-of-type {\n",
              "        vertical-align: middle;\n",
              "    }\n",
              "\n",
              "    .dataframe tbody tr th {\n",
              "        vertical-align: top;\n",
              "    }\n",
              "\n",
              "    .dataframe thead th {\n",
              "        text-align: right;\n",
              "    }\n",
              "</style>\n",
              "<table border=\"1\" class=\"dataframe\">\n",
              "  <thead>\n",
              "    <tr style=\"text-align: right;\">\n",
              "      <th></th>\n",
              "      <th>Posted On</th>\n",
              "      <th>BHK</th>\n",
              "      <th>Rent</th>\n",
              "      <th>Size</th>\n",
              "      <th>Floor</th>\n",
              "      <th>Area Type</th>\n",
              "      <th>Area Locality</th>\n",
              "      <th>City</th>\n",
              "      <th>Furnishing Status</th>\n",
              "      <th>Tenant Preferred</th>\n",
              "      <th>Bathroom</th>\n",
              "      <th>Point of Contact</th>\n",
              "      <th>Basement</th>\n",
              "      <th>Ground</th>\n",
              "      <th>BG</th>\n",
              "      <th>Day</th>\n",
              "    </tr>\n",
              "  </thead>\n",
              "  <tbody>\n",
              "    <tr>\n",
              "      <th>0</th>\n",
              "      <td>2022-05-18</td>\n",
              "      <td>2</td>\n",
              "      <td>10000</td>\n",
              "      <td>1100</td>\n",
              "      <td>Ground out of 2</td>\n",
              "      <td>Super Area</td>\n",
              "      <td>Bandel</td>\n",
              "      <td>Kolkata</td>\n",
              "      <td>Unfurnished</td>\n",
              "      <td>Bachelors/Family</td>\n",
              "      <td>2</td>\n",
              "      <td>Contact Owner</td>\n",
              "      <td>False</td>\n",
              "      <td>True</td>\n",
              "      <td>Ground</td>\n",
              "      <td>35</td>\n",
              "    </tr>\n",
              "    <tr>\n",
              "      <th>1</th>\n",
              "      <td>2022-05-13</td>\n",
              "      <td>2</td>\n",
              "      <td>20000</td>\n",
              "      <td>800</td>\n",
              "      <td>1 out of 3</td>\n",
              "      <td>Super Area</td>\n",
              "      <td>Phool Bagan, Kankurgachi</td>\n",
              "      <td>Kolkata</td>\n",
              "      <td>Semi-Furnished</td>\n",
              "      <td>Bachelors/Family</td>\n",
              "      <td>1</td>\n",
              "      <td>Contact Owner</td>\n",
              "      <td>False</td>\n",
              "      <td>False</td>\n",
              "      <td>None</td>\n",
              "      <td>30</td>\n",
              "    </tr>\n",
              "    <tr>\n",
              "      <th>2</th>\n",
              "      <td>2022-05-16</td>\n",
              "      <td>2</td>\n",
              "      <td>17000</td>\n",
              "      <td>1000</td>\n",
              "      <td>1 out of 3</td>\n",
              "      <td>Super Area</td>\n",
              "      <td>Salt Lake City Sector 2</td>\n",
              "      <td>Kolkata</td>\n",
              "      <td>Semi-Furnished</td>\n",
              "      <td>Bachelors/Family</td>\n",
              "      <td>1</td>\n",
              "      <td>Contact Owner</td>\n",
              "      <td>False</td>\n",
              "      <td>False</td>\n",
              "      <td>None</td>\n",
              "      <td>33</td>\n",
              "    </tr>\n",
              "    <tr>\n",
              "      <th>3</th>\n",
              "      <td>2022-07-04</td>\n",
              "      <td>2</td>\n",
              "      <td>10000</td>\n",
              "      <td>800</td>\n",
              "      <td>1 out of 2</td>\n",
              "      <td>Super Area</td>\n",
              "      <td>Dumdum Park</td>\n",
              "      <td>Kolkata</td>\n",
              "      <td>Unfurnished</td>\n",
              "      <td>Bachelors/Family</td>\n",
              "      <td>1</td>\n",
              "      <td>Contact Owner</td>\n",
              "      <td>False</td>\n",
              "      <td>False</td>\n",
              "      <td>None</td>\n",
              "      <td>82</td>\n",
              "    </tr>\n",
              "    <tr>\n",
              "      <th>4</th>\n",
              "      <td>2022-05-09</td>\n",
              "      <td>2</td>\n",
              "      <td>7500</td>\n",
              "      <td>850</td>\n",
              "      <td>1 out of 2</td>\n",
              "      <td>Carpet Area</td>\n",
              "      <td>South Dum Dum</td>\n",
              "      <td>Kolkata</td>\n",
              "      <td>Unfurnished</td>\n",
              "      <td>Bachelors</td>\n",
              "      <td>1</td>\n",
              "      <td>Contact Owner</td>\n",
              "      <td>False</td>\n",
              "      <td>False</td>\n",
              "      <td>None</td>\n",
              "      <td>26</td>\n",
              "    </tr>\n",
              "  </tbody>\n",
              "</table>\n",
              "</div>\n",
              "      <button class=\"colab-df-convert\" onclick=\"convertToInteractive('df-5b539e71-793e-4440-88b7-a4dafacc9980')\"\n",
              "              title=\"Convert this dataframe to an interactive table.\"\n",
              "              style=\"display:none;\">\n",
              "        \n",
              "  <svg xmlns=\"http://www.w3.org/2000/svg\" height=\"24px\"viewBox=\"0 0 24 24\"\n",
              "       width=\"24px\">\n",
              "    <path d=\"M0 0h24v24H0V0z\" fill=\"none\"/>\n",
              "    <path d=\"M18.56 5.44l.94 2.06.94-2.06 2.06-.94-2.06-.94-.94-2.06-.94 2.06-2.06.94zm-11 1L8.5 8.5l.94-2.06 2.06-.94-2.06-.94L8.5 2.5l-.94 2.06-2.06.94zm10 10l.94 2.06.94-2.06 2.06-.94-2.06-.94-.94-2.06-.94 2.06-2.06.94z\"/><path d=\"M17.41 7.96l-1.37-1.37c-.4-.4-.92-.59-1.43-.59-.52 0-1.04.2-1.43.59L10.3 9.45l-7.72 7.72c-.78.78-.78 2.05 0 2.83L4 21.41c.39.39.9.59 1.41.59.51 0 1.02-.2 1.41-.59l7.78-7.78 2.81-2.81c.8-.78.8-2.07 0-2.86zM5.41 20L4 18.59l7.72-7.72 1.47 1.35L5.41 20z\"/>\n",
              "  </svg>\n",
              "      </button>\n",
              "      \n",
              "  <style>\n",
              "    .colab-df-container {\n",
              "      display:flex;\n",
              "      flex-wrap:wrap;\n",
              "      gap: 12px;\n",
              "    }\n",
              "\n",
              "    .colab-df-convert {\n",
              "      background-color: #E8F0FE;\n",
              "      border: none;\n",
              "      border-radius: 50%;\n",
              "      cursor: pointer;\n",
              "      display: none;\n",
              "      fill: #1967D2;\n",
              "      height: 32px;\n",
              "      padding: 0 0 0 0;\n",
              "      width: 32px;\n",
              "    }\n",
              "\n",
              "    .colab-df-convert:hover {\n",
              "      background-color: #E2EBFA;\n",
              "      box-shadow: 0px 1px 2px rgba(60, 64, 67, 0.3), 0px 1px 3px 1px rgba(60, 64, 67, 0.15);\n",
              "      fill: #174EA6;\n",
              "    }\n",
              "\n",
              "    [theme=dark] .colab-df-convert {\n",
              "      background-color: #3B4455;\n",
              "      fill: #D2E3FC;\n",
              "    }\n",
              "\n",
              "    [theme=dark] .colab-df-convert:hover {\n",
              "      background-color: #434B5C;\n",
              "      box-shadow: 0px 1px 3px 1px rgba(0, 0, 0, 0.15);\n",
              "      filter: drop-shadow(0px 1px 2px rgba(0, 0, 0, 0.3));\n",
              "      fill: #FFFFFF;\n",
              "    }\n",
              "  </style>\n",
              "\n",
              "      <script>\n",
              "        const buttonEl =\n",
              "          document.querySelector('#df-5b539e71-793e-4440-88b7-a4dafacc9980 button.colab-df-convert');\n",
              "        buttonEl.style.display =\n",
              "          google.colab.kernel.accessAllowed ? 'block' : 'none';\n",
              "\n",
              "        async function convertToInteractive(key) {\n",
              "          const element = document.querySelector('#df-5b539e71-793e-4440-88b7-a4dafacc9980');\n",
              "          const dataTable =\n",
              "            await google.colab.kernel.invokeFunction('convertToInteractive',\n",
              "                                                     [key], {});\n",
              "          if (!dataTable) return;\n",
              "\n",
              "          const docLinkHtml = 'Like what you see? Visit the ' +\n",
              "            '<a target=\"_blank\" href=https://colab.research.google.com/notebooks/data_table.ipynb>data table notebook</a>'\n",
              "            + ' to learn more about interactive tables.';\n",
              "          element.innerHTML = '';\n",
              "          dataTable['output_type'] = 'display_data';\n",
              "          await google.colab.output.renderOutput(dataTable, element);\n",
              "          const docLink = document.createElement('div');\n",
              "          docLink.innerHTML = docLinkHtml;\n",
              "          element.appendChild(docLink);\n",
              "        }\n",
              "      </script>\n",
              "    </div>\n",
              "  </div>\n",
              "  "
            ]
          },
          "metadata": {},
          "execution_count": 15
        }
      ]
    },
    {
      "cell_type": "code",
      "source": [
        "corr = df.corr()\n",
        "sns.heatmap(corr, xticklabels=corr.columns, yticklabels=corr.columns)"
      ],
      "metadata": {
        "execution": {
          "iopub.status.busy": "2022-09-25T20:46:33.757059Z",
          "iopub.execute_input": "2022-09-25T20:46:33.757884Z",
          "iopub.status.idle": "2022-09-25T20:46:34.041612Z",
          "shell.execute_reply.started": "2022-09-25T20:46:33.757811Z",
          "shell.execute_reply": "2022-09-25T20:46:34.040293Z"
        },
        "trusted": true,
        "colab": {
          "base_uri": "https://localhost:8080/",
          "height": 328
        },
        "id": "Zwb_Xt_yahbl",
        "outputId": "d3ed4124-b6e6-4c50-aea7-c8345fa096e6"
      },
      "execution_count": 16,
      "outputs": [
        {
          "output_type": "execute_result",
          "data": {
            "text/plain": [
              "<matplotlib.axes._subplots.AxesSubplot at 0x7fd022dc12d0>"
            ]
          },
          "metadata": {},
          "execution_count": 16
        },
        {
          "output_type": "display_data",
          "data": {
            "text/plain": [
              "<Figure size 432x288 with 2 Axes>"
            ],
            "image/png": "[encoded data removed]"
          },
          "metadata": {
            "needs_background": "light"
          }
        }
      ]
    },
    {
      "cell_type": "markdown",
      "source": [
        "What interesting correlations! Ok, at this point we've added all the features I think we plausibly would need. Let's implement some models."
      ],
      "metadata": {
        "id": "mC-UbWiaahbm"
      }
    },
    {
      "cell_type": "code",
      "source": [
        "relevant_cols = [\"Day\", \"BHK\", \"Size\", \"Bathroom\", \"Basement\", \"Ground\", \"Area Type\",\"City\", \"Furnishing Status\", \"Tenant Preferred\", \"Point of Contact\"]\n",
        "X = df[relevant_cols]\n",
        "y= df[\"Rent\"]"
      ],
      "metadata": {
        "execution": {
          "iopub.status.busy": "2022-09-25T20:46:34.043503Z",
          "iopub.execute_input": "2022-09-25T20:46:34.043973Z",
          "iopub.status.idle": "2022-09-25T20:46:34.053062Z",
          "shell.execute_reply.started": "2022-09-25T20:46:34.043927Z",
          "shell.execute_reply": "2022-09-25T20:46:34.051737Z"
        },
        "trusted": true,
        "id": "wxtInwAiahbm"
      },
      "execution_count": 17,
      "outputs": []
    },
    {
      "cell_type": "code",
      "source": [
        "X.head()"
      ],
      "metadata": {
        "execution": {
          "iopub.status.busy": "2022-09-25T20:46:34.055253Z",
          "iopub.execute_input": "2022-09-25T20:46:34.055718Z",
          "iopub.status.idle": "2022-09-25T20:46:34.075255Z",
          "shell.execute_reply.started": "2022-09-25T20:46:34.055674Z",
          "shell.execute_reply": "2022-09-25T20:46:34.074131Z"
        },
        "trusted": true,
        "colab": {
          "base_uri": "https://localhost:8080/",
          "height": 206
        },
        "id": "cHUbGdoyahbm",
        "outputId": "522b697b-7130-4793-a0f8-612cc9ece7f8"
      },
      "execution_count": 18,
      "outputs": [
        {
          "output_type": "execute_result",
          "data": {
            "text/plain": [
              "   Day  BHK  Size  Bathroom  Basement  Ground    Area Type     City  \\\n",
              "0   35    2  1100         2     False    True   Super Area  Kolkata   \n",
              "1   30    2   800         1     False   False   Super Area  Kolkata   \n",
              "2   33    2  1000         1     False   False   Super Area  Kolkata   \n",
              "3   82    2   800         1     False   False   Super Area  Kolkata   \n",
              "4   26    2   850         1     False   False  Carpet Area  Kolkata   \n",
              "\n",
              "  Furnishing Status  Tenant Preferred Point of Contact  \n",
              "0       Unfurnished  Bachelors/Family    Contact Owner  \n",
              "1    Semi-Furnished  Bachelors/Family    Contact Owner  \n",
              "2    Semi-Furnished  Bachelors/Family    Contact Owner  \n",
              "3       Unfurnished  Bachelors/Family    Contact Owner  \n",
              "4       Unfurnished         Bachelors    Contact Owner  "
            ],
            "text/html": [
              "\n",
              "  <div id=\"df-dc6e28c4-20a1-40ba-b09b-fa13bb8d8258\">\n",
              "    <div class=\"colab-df-container\">\n",
              "      <div>\n",
              "<style scoped>\n",
              "    .dataframe tbody tr th:only-of-type {\n",
              "        vertical-align: middle;\n",
              "    }\n",
              "\n",
              "    .dataframe tbody tr th {\n",
              "        vertical-align: top;\n",
              "    }\n",
              "\n",
              "    .dataframe thead th {\n",
              "        text-align: right;\n",
              "    }\n",
              "</style>\n",
              "<table border=\"1\" class=\"dataframe\">\n",
              "  <thead>\n",
              "    <tr style=\"text-align: right;\">\n",
              "      <th></th>\n",
              "      <th>Day</th>\n",
              "      <th>BHK</th>\n",
              "      <th>Size</th>\n",
              "      <th>Bathroom</th>\n",
              "      <th>Basement</th>\n",
              "      <th>Ground</th>\n",
              "      <th>Area Type</th>\n",
              "      <th>City</th>\n",
              "      <th>Furnishing Status</th>\n",
              "      <th>Tenant Preferred</th>\n",
              "      <th>Point of Contact</th>\n",
              "    </tr>\n",
              "  </thead>\n",
              "  <tbody>\n",
              "    <tr>\n",
              "      <th>0</th>\n",
              "      <td>35</td>\n",
              "      <td>2</td>\n",
              "      <td>1100</td>\n",
              "      <td>2</td>\n",
              "      <td>False</td>\n",
              "      <td>True</td>\n",
              "      <td>Super Area</td>\n",
              "      <td>Kolkata</td>\n",
              "      <td>Unfurnished</td>\n",
              "      <td>Bachelors/Family</td>\n",
              "      <td>Contact Owner</td>\n",
              "    </tr>\n",
              "    <tr>\n",
              "      <th>1</th>\n",
              "      <td>30</td>\n",
              "      <td>2</td>\n",
              "      <td>800</td>\n",
              "      <td>1</td>\n",
              "      <td>False</td>\n",
              "      <td>False</td>\n",
              "      <td>Super Area</td>\n",
              "      <td>Kolkata</td>\n",
              "      <td>Semi-Furnished</td>\n",
              "      <td>Bachelors/Family</td>\n",
              "      <td>Contact Owner</td>\n",
              "    </tr>\n",
              "    <tr>\n",
              "      <th>2</th>\n",
              "      <td>33</td>\n",
              "      <td>2</td>\n",
              "      <td>1000</td>\n",
              "      <td>1</td>\n",
              "      <td>False</td>\n",
              "      <td>False</td>\n",
              "      <td>Super Area</td>\n",
              "      <td>Kolkata</td>\n",
              "      <td>Semi-Furnished</td>\n",
              "      <td>Bachelors/Family</td>\n",
              "      <td>Contact Owner</td>\n",
              "    </tr>\n",
              "    <tr>\n",
              "      <th>3</th>\n",
              "      <td>82</td>\n",
              "      <td>2</td>\n",
              "      <td>800</td>\n",
              "      <td>1</td>\n",
              "      <td>False</td>\n",
              "      <td>False</td>\n",
              "      <td>Super Area</td>\n",
              "      <td>Kolkata</td>\n",
              "      <td>Unfurnished</td>\n",
              "      <td>Bachelors/Family</td>\n",
              "      <td>Contact Owner</td>\n",
              "    </tr>\n",
              "    <tr>\n",
              "      <th>4</th>\n",
              "      <td>26</td>\n",
              "      <td>2</td>\n",
              "      <td>850</td>\n",
              "      <td>1</td>\n",
              "      <td>False</td>\n",
              "      <td>False</td>\n",
              "      <td>Carpet Area</td>\n",
              "      <td>Kolkata</td>\n",
              "      <td>Unfurnished</td>\n",
              "      <td>Bachelors</td>\n",
              "      <td>Contact Owner</td>\n",
              "    </tr>\n",
              "  </tbody>\n",
              "</table>\n",
              "</div>\n",
              "      <button class=\"colab-df-convert\" onclick=\"convertToInteractive('df-dc6e28c4-20a1-40ba-b09b-fa13bb8d8258')\"\n",
              "              title=\"Convert this dataframe to an interactive table.\"\n",
              "              style=\"display:none;\">\n",
              "        \n",
              "  <svg xmlns=\"http://www.w3.org/2000/svg\" height=\"24px\"viewBox=\"0 0 24 24\"\n",
              "       width=\"24px\">\n",
              "    <path d=\"M0 0h24v24H0V0z\" fill=\"none\"/>\n",
              "    <path d=\"M18.56 5.44l.94 2.06.94-2.06 2.06-.94-2.06-.94-.94-2.06-.94 2.06-2.06.94zm-11 1L8.5 8.5l.94-2.06 2.06-.94-2.06-.94L8.5 2.5l-.94 2.06-2.06.94zm10 10l.94 2.06.94-2.06 2.06-.94-2.06-.94-.94-2.06-.94 2.06-2.06.94z\"/><path d=\"M17.41 7.96l-1.37-1.37c-.4-.4-.92-.59-1.43-.59-.52 0-1.04.2-1.43.59L10.3 9.45l-7.72 7.72c-.78.78-.78 2.05 0 2.83L4 21.41c.39.39.9.59 1.41.59.51 0 1.02-.2 1.41-.59l7.78-7.78 2.81-2.81c.8-.78.8-2.07 0-2.86zM5.41 20L4 18.59l7.72-7.72 1.47 1.35L5.41 20z\"/>\n",
              "  </svg>\n",
              "      </button>\n",
              "      \n",
              "  <style>\n",
              "    .colab-df-container {\n",
              "      display:flex;\n",
              "      flex-wrap:wrap;\n",
              "      gap: 12px;\n",
              "    }\n",
              "\n",
              "    .colab-df-convert {\n",
              "      background-color: #E8F0FE;\n",
              "      border: none;\n",
              "      border-radius: 50%;\n",
              "      cursor: pointer;\n",
              "      display: none;\n",
              "      fill: #1967D2;\n",
              "      height: 32px;\n",
              "      padding: 0 0 0 0;\n",
              "      width: 32px;\n",
              "    }\n",
              "\n",
              "    .colab-df-convert:hover {\n",
              "      background-color: #E2EBFA;\n",
              "      box-shadow: 0px 1px 2px rgba(60, 64, 67, 0.3), 0px 1px 3px 1px rgba(60, 64, 67, 0.15);\n",
              "      fill: #174EA6;\n",
              "    }\n",
              "\n",
              "    [theme=dark] .colab-df-convert {\n",
              "      background-color: #3B4455;\n",
              "      fill: #D2E3FC;\n",
              "    }\n",
              "\n",
              "    [theme=dark] .colab-df-convert:hover {\n",
              "      background-color: #434B5C;\n",
              "      box-shadow: 0px 1px 3px 1px rgba(0, 0, 0, 0.15);\n",
              "      filter: drop-shadow(0px 1px 2px rgba(0, 0, 0, 0.3));\n",
              "      fill: #FFFFFF;\n",
              "    }\n",
              "  </style>\n",
              "\n",
              "      <script>\n",
              "        const buttonEl =\n",
              "          document.querySelector('#df-dc6e28c4-20a1-40ba-b09b-fa13bb8d8258 button.colab-df-convert');\n",
              "        buttonEl.style.display =\n",
              "          google.colab.kernel.accessAllowed ? 'block' : 'none';\n",
              "\n",
              "        async function convertToInteractive(key) {\n",
              "          const element = document.querySelector('#df-dc6e28c4-20a1-40ba-b09b-fa13bb8d8258');\n",
              "          const dataTable =\n",
              "            await google.colab.kernel.invokeFunction('convertToInteractive',\n",
              "                                                     [key], {});\n",
              "          if (!dataTable) return;\n",
              "\n",
              "          const docLinkHtml = 'Like what you see? Visit the ' +\n",
              "            '<a target=\"_blank\" href=https://colab.research.google.com/notebooks/data_table.ipynb>data table notebook</a>'\n",
              "            + ' to learn more about interactive tables.';\n",
              "          element.innerHTML = '';\n",
              "          dataTable['output_type'] = 'display_data';\n",
              "          await google.colab.output.renderOutput(dataTable, element);\n",
              "          const docLink = document.createElement('div');\n",
              "          docLink.innerHTML = docLinkHtml;\n",
              "          element.appendChild(docLink);\n",
              "        }\n",
              "      </script>\n",
              "    </div>\n",
              "  </div>\n",
              "  "
            ]
          },
          "metadata": {},
          "execution_count": 18
        }
      ]
    },
    {
      "cell_type": "markdown",
      "source": [
        "We have to do one-hot encoding on the remaining categorical features. So let's do that!"
      ],
      "metadata": {
        "id": "06AoL-igahbm"
      }
    },
    {
      "cell_type": "code",
      "source": [
        "cats = ['Area Type', 'City', 'Furnishing Status', 'Tenant Preferred', 'Point of Contact', 'Basement', 'Ground']\n",
        "for cat in cats:\n",
        "    X = X.join(pd.get_dummies(X[cat], prefix=cat))\n",
        "    X = X.drop(cat, axis=1)\n",
        "    "
      ],
      "metadata": {
        "execution": {
          "iopub.status.busy": "2022-09-25T20:46:34.079770Z",
          "iopub.execute_input": "2022-09-25T20:46:34.080935Z",
          "iopub.status.idle": "2022-09-25T20:46:34.107559Z",
          "shell.execute_reply.started": "2022-09-25T20:46:34.080896Z",
          "shell.execute_reply": "2022-09-25T20:46:34.106311Z"
        },
        "trusted": true,
        "id": "Turctu1Bahbn"
      },
      "execution_count": 19,
      "outputs": []
    },
    {
      "cell_type": "code",
      "source": [
        "X.head()"
      ],
      "metadata": {
        "execution": {
          "iopub.status.busy": "2022-09-25T20:46:34.109033Z",
          "iopub.execute_input": "2022-09-25T20:46:34.109475Z",
          "iopub.status.idle": "2022-09-25T20:46:34.129995Z",
          "shell.execute_reply.started": "2022-09-25T20:46:34.109432Z",
          "shell.execute_reply": "2022-09-25T20:46:34.128761Z"
        },
        "trusted": true,
        "colab": {
          "base_uri": "https://localhost:8080/",
          "height": 334
        },
        "id": "tKffjGWUahbn",
        "outputId": "bbbca20c-4640-41b9-ee41-a3b3bd4f76c8"
      },
      "execution_count": 20,
      "outputs": [
        {
          "output_type": "execute_result",
          "data": {
            "text/plain": [
              "   Day  BHK  Size  Bathroom  Area Type_Built Area  Area Type_Carpet Area  \\\n",
              "0   35    2  1100         2                     0                      0   \n",
              "1   30    2   800         1                     0                      0   \n",
              "2   33    2  1000         1                     0                      0   \n",
              "3   82    2   800         1                     0                      0   \n",
              "4   26    2   850         1                     0                      1   \n",
              "\n",
              "   Area Type_Super Area  City_Bangalore  City_Chennai  City_Delhi  ...  \\\n",
              "0                     1               0             0           0  ...   \n",
              "1                     1               0             0           0  ...   \n",
              "2                     1               0             0           0  ...   \n",
              "3                     1               0             0           0  ...   \n",
              "4                     0               0             0           0  ...   \n",
              "\n",
              "   Tenant Preferred_Bachelors  Tenant Preferred_Bachelors/Family  \\\n",
              "0                           0                                  1   \n",
              "1                           0                                  1   \n",
              "2                           0                                  1   \n",
              "3                           0                                  1   \n",
              "4                           1                                  0   \n",
              "\n",
              "   Tenant Preferred_Family  Point of Contact_Contact Agent  \\\n",
              "0                        0                               0   \n",
              "1                        0                               0   \n",
              "2                        0                               0   \n",
              "3                        0                               0   \n",
              "4                        0                               0   \n",
              "\n",
              "   Point of Contact_Contact Builder  Point of Contact_Contact Owner  \\\n",
              "0                                 0                               1   \n",
              "1                                 0                               1   \n",
              "2                                 0                               1   \n",
              "3                                 0                               1   \n",
              "4                                 0                               1   \n",
              "\n",
              "   Basement_False  Basement_True  Ground_False  Ground_True  \n",
              "0               1              0             0            1  \n",
              "1               1              0             1            0  \n",
              "2               1              0             1            0  \n",
              "3               1              0             1            0  \n",
              "4               1              0             1            0  \n",
              "\n",
              "[5 rows x 26 columns]"
            ],
            "text/html": [
              "\n",
              "  <div id=\"df-777104ff-feca-4c87-bf23-e7fb44e75743\">\n",
              "    <div class=\"colab-df-container\">\n",
              "      <div>\n",
              "<style scoped>\n",
              "    .dataframe tbody tr th:only-of-type {\n",
              "        vertical-align: middle;\n",
              "    }\n",
              "\n",
              "    .dataframe tbody tr th {\n",
              "        vertical-align: top;\n",
              "    }\n",
              "\n",
              "    .dataframe thead th {\n",
              "        text-align: right;\n",
              "    }\n",
              "</style>\n",
              "<table border=\"1\" class=\"dataframe\">\n",
              "  <thead>\n",
              "    <tr style=\"text-align: right;\">\n",
              "      <th></th>\n",
              "      <th>Day</th>\n",
              "      <th>BHK</th>\n",
              "      <th>Size</th>\n",
              "      <th>Bathroom</th>\n",
              "      <th>Area Type_Built Area</th>\n",
              "      <th>Area Type_Carpet Area</th>\n",
              "      <th>Area Type_Super Area</th>\n",
              "      <th>City_Bangalore</th>\n",
              "      <th>City_Chennai</th>\n",
              "      <th>City_Delhi</th>\n",
              "      <th>...</th>\n",
              "      <th>Tenant Preferred_Bachelors</th>\n",
              "      <th>Tenant Preferred_Bachelors/Family</th>\n",
              "      <th>Tenant Preferred_Family</th>\n",
              "      <th>Point of Contact_Contact Agent</th>\n",
              "      <th>Point of Contact_Contact Builder</th>\n",
              "      <th>Point of Contact_Contact Owner</th>\n",
              "      <th>Basement_False</th>\n",
              "      <th>Basement_True</th>\n",
              "      <th>Ground_False</th>\n",
              "      <th>Ground_True</th>\n",
              "    </tr>\n",
              "  </thead>\n",
              "  <tbody>\n",
              "    <tr>\n",
              "      <th>0</th>\n",
              "      <td>35</td>\n",
              "      <td>2</td>\n",
              "      <td>1100</td>\n",
              "      <td>2</td>\n",
              "      <td>0</td>\n",
              "      <td>0</td>\n",
              "      <td>1</td>\n",
              "      <td>0</td>\n",
              "      <td>0</td>\n",
              "      <td>0</td>\n",
              "      <td>...</td>\n",
              "      <td>0</td>\n",
              "      <td>1</td>\n",
              "      <td>0</td>\n",
              "      <td>0</td>\n",
              "      <td>0</td>\n",
              "      <td>1</td>\n",
              "      <td>1</td>\n",
              "      <td>0</td>\n",
              "      <td>0</td>\n",
              "      <td>1</td>\n",
              "    </tr>\n",
              "    <tr>\n",
              "      <th>1</th>\n",
              "      <td>30</td>\n",
              "      <td>2</td>\n",
              "      <td>800</td>\n",
              "      <td>1</td>\n",
              "      <td>0</td>\n",
              "      <td>0</td>\n",
              "      <td>1</td>\n",
              "      <td>0</td>\n",
              "      <td>0</td>\n",
              "      <td>0</td>\n",
              "      <td>...</td>\n",
              "      <td>0</td>\n",
              "      <td>1</td>\n",
              "      <td>0</td>\n",
              "      <td>0</td>\n",
              "      <td>0</td>\n",
              "      <td>1</td>\n",
              "      <td>1</td>\n",
              "      <td>0</td>\n",
              "      <td>1</td>\n",
              "      <td>0</td>\n",
              "    </tr>\n",
              "    <tr>\n",
              "      <th>2</th>\n",
              "      <td>33</td>\n",
              "      <td>2</td>\n",
              "      <td>1000</td>\n",
              "      <td>1</td>\n",
              "      <td>0</td>\n",
              "      <td>0</td>\n",
              "      <td>1</td>\n",
              "      <td>0</td>\n",
              "      <td>0</td>\n",
              "      <td>0</td>\n",
              "      <td>...</td>\n",
              "      <td>0</td>\n",
              "      <td>1</td>\n",
              "      <td>0</td>\n",
              "      <td>0</td>\n",
              "      <td>0</td>\n",
              "      <td>1</td>\n",
              "      <td>1</td>\n",
              "      <td>0</td>\n",
              "      <td>1</td>\n",
              "      <td>0</td>\n",
              "    </tr>\n",
              "    <tr>\n",
              "      <th>3</th>\n",
              "      <td>82</td>\n",
              "      <td>2</td>\n",
              "      <td>800</td>\n",
              "      <td>1</td>\n",
              "      <td>0</td>\n",
              "      <td>0</td>\n",
              "      <td>1</td>\n",
              "      <td>0</td>\n",
              "      <td>0</td>\n",
              "      <td>0</td>\n",
              "      <td>...</td>\n",
              "      <td>0</td>\n",
              "      <td>1</td>\n",
              "      <td>0</td>\n",
              "      <td>0</td>\n",
              "      <td>0</td>\n",
              "      <td>1</td>\n",
              "      <td>1</td>\n",
              "      <td>0</td>\n",
              "      <td>1</td>\n",
              "      <td>0</td>\n",
              "    </tr>\n",
              "    <tr>\n",
              "      <th>4</th>\n",
              "      <td>26</td>\n",
              "      <td>2</td>\n",
              "      <td>850</td>\n",
              "      <td>1</td>\n",
              "      <td>0</td>\n",
              "      <td>1</td>\n",
              "      <td>0</td>\n",
              "      <td>0</td>\n",
              "      <td>0</td>\n",
              "      <td>0</td>\n",
              "      <td>...</td>\n",
              "      <td>1</td>\n",
              "      <td>0</td>\n",
              "      <td>0</td>\n",
              "      <td>0</td>\n",
              "      <td>0</td>\n",
              "      <td>1</td>\n",
              "      <td>1</td>\n",
              "      <td>0</td>\n",
              "      <td>1</td>\n",
              "      <td>0</td>\n",
              "    </tr>\n",
              "  </tbody>\n",
              "</table>\n",
              "<p>5 rows × 26 columns</p>\n",
              "</div>\n",
              "      <button class=\"colab-df-convert\" onclick=\"convertToInteractive('df-777104ff-feca-4c87-bf23-e7fb44e75743')\"\n",
              "              title=\"Convert this dataframe to an interactive table.\"\n",
              "              style=\"display:none;\">\n",
              "        \n",
              "  <svg xmlns=\"http://www.w3.org/2000/svg\" height=\"24px\"viewBox=\"0 0 24 24\"\n",
              "       width=\"24px\">\n",
              "    <path d=\"M0 0h24v24H0V0z\" fill=\"none\"/>\n",
              "    <path d=\"M18.56 5.44l.94 2.06.94-2.06 2.06-.94-2.06-.94-.94-2.06-.94 2.06-2.06.94zm-11 1L8.5 8.5l.94-2.06 2.06-.94-2.06-.94L8.5 2.5l-.94 2.06-2.06.94zm10 10l.94 2.06.94-2.06 2.06-.94-2.06-.94-.94-2.06-.94 2.06-2.06.94z\"/><path d=\"M17.41 7.96l-1.37-1.37c-.4-.4-.92-.59-1.43-.59-.52 0-1.04.2-1.43.59L10.3 9.45l-7.72 7.72c-.78.78-.78 2.05 0 2.83L4 21.41c.39.39.9.59 1.41.59.51 0 1.02-.2 1.41-.59l7.78-7.78 2.81-2.81c.8-.78.8-2.07 0-2.86zM5.41 20L4 18.59l7.72-7.72 1.47 1.35L5.41 20z\"/>\n",
              "  </svg>\n",
              "      </button>\n",
              "      \n",
              "  <style>\n",
              "    .colab-df-container {\n",
              "      display:flex;\n",
              "      flex-wrap:wrap;\n",
              "      gap: 12px;\n",
              "    }\n",
              "\n",
              "    .colab-df-convert {\n",
              "      background-color: #E8F0FE;\n",
              "      border: none;\n",
              "      border-radius: 50%;\n",
              "      cursor: pointer;\n",
              "      display: none;\n",
              "      fill: #1967D2;\n",
              "      height: 32px;\n",
              "      padding: 0 0 0 0;\n",
              "      width: 32px;\n",
              "    }\n",
              "\n",
              "    .colab-df-convert:hover {\n",
              "      background-color: #E2EBFA;\n",
              "      box-shadow: 0px 1px 2px rgba(60, 64, 67, 0.3), 0px 1px 3px 1px rgba(60, 64, 67, 0.15);\n",
              "      fill: #174EA6;\n",
              "    }\n",
              "\n",
              "    [theme=dark] .colab-df-convert {\n",
              "      background-color: #3B4455;\n",
              "      fill: #D2E3FC;\n",
              "    }\n",
              "\n",
              "    [theme=dark] .colab-df-convert:hover {\n",
              "      background-color: #434B5C;\n",
              "      box-shadow: 0px 1px 3px 1px rgba(0, 0, 0, 0.15);\n",
              "      filter: drop-shadow(0px 1px 2px rgba(0, 0, 0, 0.3));\n",
              "      fill: #FFFFFF;\n",
              "    }\n",
              "  </style>\n",
              "\n",
              "      <script>\n",
              "        const buttonEl =\n",
              "          document.querySelector('#df-777104ff-feca-4c87-bf23-e7fb44e75743 button.colab-df-convert');\n",
              "        buttonEl.style.display =\n",
              "          google.colab.kernel.accessAllowed ? 'block' : 'none';\n",
              "\n",
              "        async function convertToInteractive(key) {\n",
              "          const element = document.querySelector('#df-777104ff-feca-4c87-bf23-e7fb44e75743');\n",
              "          const dataTable =\n",
              "            await google.colab.kernel.invokeFunction('convertToInteractive',\n",
              "                                                     [key], {});\n",
              "          if (!dataTable) return;\n",
              "\n",
              "          const docLinkHtml = 'Like what you see? Visit the ' +\n",
              "            '<a target=\"_blank\" href=https://colab.research.google.com/notebooks/data_table.ipynb>data table notebook</a>'\n",
              "            + ' to learn more about interactive tables.';\n",
              "          element.innerHTML = '';\n",
              "          dataTable['output_type'] = 'display_data';\n",
              "          await google.colab.output.renderOutput(dataTable, element);\n",
              "          const docLink = document.createElement('div');\n",
              "          docLink.innerHTML = docLinkHtml;\n",
              "          element.appendChild(docLink);\n",
              "        }\n",
              "      </script>\n",
              "    </div>\n",
              "  </div>\n",
              "  "
            ]
          },
          "metadata": {},
          "execution_count": 20
        }
      ]
    },
    {
      "cell_type": "code",
      "source": [
        "from sklearn.model_selection import train_test_split\n",
        "X_train, X_test, y_train, y_test = train_test_split(X, y, test_size=0.2, random_state=4) \n"
      ],
      "metadata": {
        "execution": {
          "iopub.status.busy": "2022-09-25T20:46:34.132229Z",
          "iopub.execute_input": "2022-09-25T20:46:34.132950Z",
          "iopub.status.idle": "2022-09-25T20:46:34.142600Z",
          "shell.execute_reply.started": "2022-09-25T20:46:34.132900Z",
          "shell.execute_reply": "2022-09-25T20:46:34.141369Z"
        },
        "trusted": true,
        "id": "RKt5VmBkahbn"
      },
      "execution_count": 21,
      "outputs": []
    },
    {
      "cell_type": "code",
      "source": [
        "from sklearn.ensemble import RandomForestRegressor\n",
        "#to start,  picking sensible-sounding hyperparameters, we'll test validity on oob examples\n",
        "rfr = RandomForestRegressor(n_estimators = 250, max_depth = 4, oob_score = True)"
      ],
      "metadata": {
        "execution": {
          "iopub.status.busy": "2022-09-25T20:46:34.144036Z",
          "iopub.execute_input": "2022-09-25T20:46:34.144459Z",
          "iopub.status.idle": "2022-09-25T20:46:34.151895Z",
          "shell.execute_reply.started": "2022-09-25T20:46:34.144417Z",
          "shell.execute_reply": "2022-09-25T20:46:34.150777Z"
        },
        "trusted": true,
        "id": "6ygCGHTYahbn"
      },
      "execution_count": 22,
      "outputs": []
    },
    {
      "cell_type": "code",
      "source": [
        "rfr.fit(X_train,y_train)"
      ],
      "metadata": {
        "execution": {
          "iopub.status.busy": "2022-09-25T20:46:34.153211Z",
          "iopub.execute_input": "2022-09-25T20:46:34.153644Z",
          "iopub.status.idle": "2022-09-25T20:46:35.329281Z",
          "shell.execute_reply.started": "2022-09-25T20:46:34.153600Z",
          "shell.execute_reply": "2022-09-25T20:46:35.328132Z"
        },
        "trusted": true,
        "colab": {
          "base_uri": "https://localhost:8080/"
        },
        "id": "9GlnvU5Bahbn",
        "outputId": "791b35b1-5cc6-4ad8-96bc-6a67e995db64"
      },
      "execution_count": 23,
      "outputs": [
        {
          "output_type": "execute_result",
          "data": {
            "text/plain": [
              "RandomForestRegressor(max_depth=4, n_estimators=250, oob_score=True)"
            ]
          },
          "metadata": {},
          "execution_count": 23
        }
      ]
    },
    {
      "cell_type": "code",
      "source": [
        "rfr.oob_score_"
      ],
      "metadata": {
        "execution": {
          "iopub.status.busy": "2022-09-25T20:46:35.330761Z",
          "iopub.execute_input": "2022-09-25T20:46:35.332005Z",
          "iopub.status.idle": "2022-09-25T20:46:35.340681Z",
          "shell.execute_reply.started": "2022-09-25T20:46:35.331947Z",
          "shell.execute_reply": "2022-09-25T20:46:35.339563Z"
        },
        "trusted": true,
        "colab": {
          "base_uri": "https://localhost:8080/"
        },
        "id": "lsKjOcLhahbn",
        "outputId": "4a6fa22a-9cdd-478c-b00f-43cfc5ab068a"
      },
      "execution_count": 24,
      "outputs": [
        {
          "output_type": "execute_result",
          "data": {
            "text/plain": [
              "0.7069125568894157"
            ]
          },
          "metadata": {},
          "execution_count": 24
        }
      ]
    },
    {
      "cell_type": "markdown",
      "source": [
        "The first  oob score this popped out was .6921, and further implementations with n_estimators = 250 and max_leaf_nodes = 32 produce similar numbers. Using max_depth=4 instead improved things slightly to .71 or so. Not great!"
      ],
      "metadata": {
        "id": "Javht5Buahbn"
      }
    },
    {
      "cell_type": "code",
      "source": [
        "from sklearn.metrics import mean_squared_error as mse\n",
        "print(\"Training error: \",np.sqrt(mse(y_train, rfr.predict(X_train))))\n",
        "print(\"Test error: \", np.sqrt(mse(y_test, rfr.predict(X_test))))"
      ],
      "metadata": {
        "execution": {
          "iopub.status.busy": "2022-09-25T20:46:35.342104Z",
          "iopub.execute_input": "2022-09-25T20:46:35.342764Z",
          "iopub.status.idle": "2022-09-25T20:46:35.465857Z",
          "shell.execute_reply.started": "2022-09-25T20:46:35.342724Z",
          "shell.execute_reply": "2022-09-25T20:46:35.464518Z"
        },
        "trusted": true,
        "colab": {
          "base_uri": "https://localhost:8080/"
        },
        "id": "p6cGGfbTahbn",
        "outputId": "a21b76d0-852f-437a-c359-bcc7894f573a"
      },
      "execution_count": 25,
      "outputs": [
        {
          "output_type": "stream",
          "name": "stdout",
          "text": [
            "Training error:  26459.067294297427\n",
            "Test error:  116126.61363776824\n"
          ]
        }
      ]
    },
    {
      "cell_type": "markdown",
      "source": [
        "The truly vast difference between the training and test errors suggest that one is distorted by the presence of outliers, especially the 3.5 million rent we saw before. This doesn't necessarily call for retraining the model, but verifying the hypothesis that the difference is due to the very large outliers. Rather than messing with the data, I'm going to introduce a new error function that caps the contribution to the error any single data point can provide."
      ],
      "metadata": {
        "id": "3ZmKNX4yahbo"
      }
    },
    {
      "cell_type": "code",
      "source": [
        "def mse_capped(ar1, ar2, cap):\n",
        "    n = len(ar1)\n",
        "    sum = 0\n",
        "    for i in range(n):\n",
        "        sum += min((ar1[i] - ar2[i]) ** 2, cap ** 2)\n",
        "    return sum/n\n",
        "print(\"Capped training error\", \n",
        "      np.sqrt(mse_capped(y_train.to_numpy(), rfr.predict(X_train), 300000)))\n",
        "print(\"Capped test error\", \n",
        "      np.sqrt(mse_capped(y_test.to_numpy(), rfr.predict(X_test), 300000)))\n"
      ],
      "metadata": {
        "execution": {
          "iopub.status.busy": "2022-09-25T20:46:35.467940Z",
          "iopub.execute_input": "2022-09-25T20:46:35.468852Z",
          "iopub.status.idle": "2022-09-25T20:46:35.602554Z",
          "shell.execute_reply.started": "2022-09-25T20:46:35.468787Z",
          "shell.execute_reply": "2022-09-25T20:46:35.601316Z"
        },
        "trusted": true,
        "colab": {
          "base_uri": "https://localhost:8080/"
        },
        "id": "IUmtVfDlahbo",
        "outputId": "a49021da-530a-4036-aafd-bd31138f76a5"
      },
      "execution_count": 26,
      "outputs": [
        {
          "output_type": "stream",
          "name": "stdout",
          "text": [
            "Capped training error 25615.184148883473\n",
            "Capped test error 28985.44721725813\n"
          ]
        }
      ]
    },
    {
      "cell_type": "markdown",
      "source": [
        "We can compare this to guessing the average:"
      ],
      "metadata": {
        "id": "pnM9fQyAahbo"
      }
    },
    {
      "cell_type": "code",
      "source": [
        "n = len(X_test)\n",
        "print(\"Trivial estimator\", \n",
        "      np.sqrt(mse_capped(np.full(n, df.Rent.mean()), rfr.predict(X_test), 300000)))\n"
      ],
      "metadata": {
        "execution": {
          "iopub.status.busy": "2022-09-25T20:46:35.604504Z",
          "iopub.execute_input": "2022-09-25T20:46:35.605384Z",
          "iopub.status.idle": "2022-09-25T20:46:35.651743Z",
          "shell.execute_reply.started": "2022-09-25T20:46:35.605334Z",
          "shell.execute_reply": "2022-09-25T20:46:35.650496Z"
        },
        "trusted": true,
        "colab": {
          "base_uri": "https://localhost:8080/"
        },
        "id": "cBCdVxh8ahbo",
        "outputId": "54d43a9c-d4dd-4e6c-f8f7-e5d3c12be886"
      },
      "execution_count": 27,
      "outputs": [
        {
          "output_type": "stream",
          "name": "stdout",
          "text": [
            "Trivial estimator 44284.91591358186\n"
          ]
        }
      ]
    },
    {
      "cell_type": "markdown",
      "source": [
        "So the random forest model reflects some predictive value. But how do other models stack up? Note that because we no longer have OOB scores for hyperparameter tuning, we handle parameter tuning with cross-validation instead."
      ],
      "metadata": {
        "id": "1f-3rX03ahbo"
      }
    },
    {
      "cell_type": "code",
      "source": [
        "from sklearn import linear_model\n",
        "from sklearn.ensemble import GradientBoostingRegressor\n",
        "from sklearn.model_selection import cross_val_score\n",
        "models = {\n",
        "    \"lm\": linear_model.LinearRegression(),\n",
        "    \"ridge\": linear_model.Ridge(alpha=0.5),\n",
        "    \"lasso\": linear_model.Lasso(alpha=0.2, tol=.1),\n",
        "    \"rfr\": RandomForestRegressor(n_estimators=250, max_depth=4, oob_score=True, \n",
        "                                 random_state=4),\n",
        "    \"gbr\": GradientBoostingRegressor(n_estimators=250, learning_rate=0.2, max_depth=4, \n",
        "                                     random_state=4)\n",
        "}"
      ],
      "metadata": {
        "execution": {
          "iopub.status.busy": "2022-09-25T20:46:35.653677Z",
          "iopub.execute_input": "2022-09-25T20:46:35.654507Z",
          "iopub.status.idle": "2022-09-25T20:46:35.663373Z",
          "shell.execute_reply.started": "2022-09-25T20:46:35.654460Z",
          "shell.execute_reply": "2022-09-25T20:46:35.662311Z"
        },
        "trusted": true,
        "id": "oCn9S2_mahbo"
      },
      "execution_count": 28,
      "outputs": []
    },
    {
      "cell_type": "markdown",
      "source": [
        "Train and provide validation scores for each model, for hyperparameter tuning."
      ],
      "metadata": {
        "id": "UshOBOjuahbo"
      }
    },
    {
      "cell_type": "code",
      "source": [
        "for key in models:\n",
        "    print(key, cross_val_score(models[key], X_train, y_train, cv=5))\n"
      ],
      "metadata": {
        "execution": {
          "iopub.status.busy": "2022-09-25T20:46:35.665143Z",
          "iopub.execute_input": "2022-09-25T20:46:35.665457Z",
          "iopub.status.idle": "2022-09-25T20:46:46.030896Z",
          "shell.execute_reply.started": "2022-09-25T20:46:35.665428Z",
          "shell.execute_reply": "2022-09-25T20:46:46.029680Z"
        },
        "trusted": true,
        "colab": {
          "base_uri": "https://localhost:8080/"
        },
        "id": "S6XcW9dBahbo",
        "outputId": "28966bf4-46ed-40af-8364-7c2ed53cd7b0"
      },
      "execution_count": 29,
      "outputs": [
        {
          "output_type": "stream",
          "name": "stdout",
          "text": [
            "lm [0.50621846 0.53406944 0.58179241 0.49303807 0.51342182]\n",
            "ridge [0.50631042 0.53406214 0.58212182 0.49301125 0.51345279]\n",
            "lasso [0.506239   0.53406976 0.58182404 0.49297331 0.51342159]\n",
            "rfr [0.71244185 0.75869027 0.66728595 0.71486522 0.66578442]\n",
            "gbr [0.67347196 0.74086443 0.66685728 0.73058516 0.61557237]\n"
          ]
        }
      ]
    },
    {
      "cell_type": "markdown",
      "source": [
        "None obviously beat random forests either before or after tuning, but let's see how well they do.\n",
        "\n",
        "As an additional note, I remark that lasso had trouble converging; hence the high tolerance. I suspect that we run into some colinearity issues with the one-hot encoding of the Basement and Ground columns."
      ],
      "metadata": {
        "id": "sf9LyvxPahbo"
      }
    },
    {
      "cell_type": "code",
      "source": [
        "for key in models:\n",
        "    models[key].fit(X_train, y_train)"
      ],
      "metadata": {
        "execution": {
          "iopub.status.busy": "2022-09-25T20:46:46.032802Z",
          "iopub.execute_input": "2022-09-25T20:46:46.033563Z",
          "iopub.status.idle": "2022-09-25T20:46:48.492502Z",
          "shell.execute_reply.started": "2022-09-25T20:46:46.033516Z",
          "shell.execute_reply": "2022-09-25T20:46:48.491538Z"
        },
        "trusted": true,
        "id": "FL_kPXSKahbo"
      },
      "execution_count": 30,
      "outputs": []
    },
    {
      "cell_type": "code",
      "source": [
        "train_errors ={}\n",
        "test_errors = {}\n",
        "for key in models:\n",
        "    train_errors[key] = np.sqrt(mse_capped(y_train.to_numpy(), \n",
        "                                           models[key].predict(X_train), 300000))\n",
        "    test_errors[key] = np.sqrt(mse_capped(y_test.to_numpy(), \n",
        "                                           models[key].predict(X_test), 300000))\n",
        "mean = df.Rent.mean()\n",
        "train_errors[\"trivial\"] = np.sqrt(mse_capped(np.full(len(y_train), mean), \n",
        "                                             rfr.predict(X_train), 300000))\n",
        "test_errors[\"trivial\"] = np.sqrt(mse_capped(np.full(len(y_test), mean), \n",
        "                                            rfr.predict(X_test), 300000))\n",
        "labels = list(train_errors.keys())\n",
        "train_errors_list = list(train_errors.values())\n",
        "test_errors_list = list(test_errors.values())\n"
      ],
      "metadata": {
        "execution": {
          "iopub.status.busy": "2022-09-25T20:46:48.494270Z",
          "iopub.execute_input": "2022-09-25T20:46:48.494579Z",
          "iopub.status.idle": "2022-09-25T20:46:49.029271Z",
          "shell.execute_reply.started": "2022-09-25T20:46:48.494550Z",
          "shell.execute_reply": "2022-09-25T20:46:49.028201Z"
        },
        "trusted": true,
        "id": "LgsKZvzhahbp"
      },
      "execution_count": 31,
      "outputs": []
    },
    {
      "cell_type": "code",
      "source": [
        "plt.bar(range(len(labels)), train_errors_list, tick_label=labels)\n",
        "plt.title(\"Train capped root mean square error by model\")\n",
        "plt.show()"
      ],
      "metadata": {
        "execution": {
          "iopub.status.busy": "2022-09-25T20:46:49.030665Z",
          "iopub.execute_input": "2022-09-25T20:46:49.032041Z",
          "iopub.status.idle": "2022-09-25T20:46:49.223304Z",
          "shell.execute_reply.started": "2022-09-25T20:46:49.031992Z",
          "shell.execute_reply": "2022-09-25T20:46:49.222133Z"
        },
        "trusted": true,
        "colab": {
          "base_uri": "https://localhost:8080/",
          "height": 281
        },
        "id": "GV1WJ9WYahbp",
        "outputId": "94ee13e0-8748-4048-b59d-9885c36b0d01"
      },
      "execution_count": 32,
      "outputs": [
        {
          "output_type": "display_data",
          "data": {
            "text/plain": [
              "<Figure size 432x288 with 1 Axes>"
            ],
            "image/png": "[encoded data removed]"
          },
          "metadata": {
            "needs_background": "light"
          }
        }
      ]
    },
    {
      "cell_type": "markdown",
      "source": [
        "Gradient boosting has suspiciously low train error. Is it overfitting?"
      ],
      "metadata": {
        "id": "PhRidA_wahbp"
      }
    },
    {
      "cell_type": "code",
      "source": [
        "plt.bar(range(len(labels)), test_errors_list, tick_label=labels)\n",
        "plt.title(\"Test capped root mean square error by model\")\n",
        "plt.show()"
      ],
      "metadata": {
        "execution": {
          "iopub.status.busy": "2022-09-25T20:46:49.224919Z",
          "iopub.execute_input": "2022-09-25T20:46:49.225251Z",
          "iopub.status.idle": "2022-09-25T20:46:49.417701Z",
          "shell.execute_reply.started": "2022-09-25T20:46:49.225220Z",
          "shell.execute_reply": "2022-09-25T20:46:49.416758Z"
        },
        "trusted": true,
        "colab": {
          "base_uri": "https://localhost:8080/",
          "height": 281
        },
        "id": "9JKUSdPrahbp",
        "outputId": "2fbe984b-0007-4838-d0fe-a66873d8d583"
      },
      "execution_count": 33,
      "outputs": [
        {
          "output_type": "display_data",
          "data": {
            "text/plain": [
              "<Figure size 432x288 with 1 Axes>"
            ],
            "image/png": "[encoded data removed]"
          },
          "metadata": {
            "needs_background": "light"
          }
        }
      ]
    },
    {
      "cell_type": "code",
      "source": [
        "test_errors[\"gbr\"]"
      ],
      "metadata": {
        "execution": {
          "iopub.status.busy": "2022-09-25T20:46:49.418813Z",
          "iopub.execute_input": "2022-09-25T20:46:49.419724Z",
          "iopub.status.idle": "2022-09-25T20:46:49.426313Z",
          "shell.execute_reply.started": "2022-09-25T20:46:49.419674Z",
          "shell.execute_reply": "2022-09-25T20:46:49.424980Z"
        },
        "trusted": true,
        "colab": {
          "base_uri": "https://localhost:8080/"
        },
        "id": "tKeTjQ7gahbp",
        "outputId": "fea72dc6-13b5-419a-a02e-ea5cdedddedd"
      },
      "execution_count": 34,
      "outputs": [
        {
          "output_type": "execute_result",
          "data": {
            "text/plain": [
              "28286.070269192707"
            ]
          },
          "metadata": {},
          "execution_count": 34
        }
      ]
    },
    {
      "cell_type": "markdown",
      "source": [
        "It is, but still manages to be today's winner with a capped MSE of 28,286. That said, every model adds some information. To end, let's just see which features the linear model takes seriously."
      ],
      "metadata": {
        "id": "snzNPGKCahbp"
      }
    },
    {
      "cell_type": "code",
      "source": [
        "dict(zip(X_train.columns, models[\"lm\"].coef_))"
      ],
      "metadata": {
        "execution": {
          "iopub.status.busy": "2022-09-25T20:46:49.428051Z",
          "iopub.execute_input": "2022-09-25T20:46:49.428577Z",
          "iopub.status.idle": "2022-09-25T20:46:49.442972Z",
          "shell.execute_reply.started": "2022-09-25T20:46:49.428537Z",
          "shell.execute_reply": "2022-09-25T20:46:49.441492Z"
        },
        "trusted": true,
        "colab": {
          "base_uri": "https://localhost:8080/"
        },
        "id": "olVa6vrgahbp",
        "outputId": "59499162-e955-4fc2-b540-2c231edd4550"
      },
      "execution_count": 35,
      "outputs": [
        {
          "output_type": "execute_result",
          "data": {
            "text/plain": [
              "{'Day': -57.4123763918039,\n",
              " 'BHK': 735.381385802095,\n",
              " 'Size': 39.91089852424392,\n",
              " 'Bathroom': 12419.98154018575,\n",
              " 'Area Type_Built Area': 5294.714307054602,\n",
              " 'Area Type_Carpet Area': -1143.2757008865317,\n",
              " 'Area Type_Super Area': -4151.438606196384,\n",
              " 'City_Bangalore': -9230.68539238673,\n",
              " 'City_Chennai': -12658.31894802212,\n",
              " 'City_Delhi': 3894.6841271315416,\n",
              " 'City_Hyderabad': -21200.52481037222,\n",
              " 'City_Kolkata': -7203.687156807359,\n",
              " 'City_Mumbai': 46398.532180454284,\n",
              " 'Furnishing Status_Furnished': 4739.910544415582,\n",
              " 'Furnishing Status_Semi-Furnished': -2670.316503073571,\n",
              " 'Furnishing Status_Unfurnished': -2069.5940413294247,\n",
              " 'Tenant Preferred_Bachelors': -463.5987934090635,\n",
              " 'Tenant Preferred_Bachelors/Family': 5073.149398243736,\n",
              " 'Tenant Preferred_Family': -4609.550604830038,\n",
              " 'Point of Contact_Contact Agent': -5607.125846468857,\n",
              " 'Point of Contact_Contact Builder': 19109.108776945854,\n",
              " 'Point of Contact_Contact Owner': -13501.982930439837,\n",
              " 'Basement_False': -1593.1466507310538,\n",
              " 'Basement_True': 1593.1466507323985,\n",
              " 'Ground_False': -168.13653459346364,\n",
              " 'Ground_True': 168.13653459388132}"
            ]
          },
          "metadata": {},
          "execution_count": 35
        }
      ]
    },
    {
      "cell_type": "markdown",
      "source": [
        "Based on this list, we see that Size, Bathroom, City_Hyderabad, and City_Mumbai are probably the most significant features, and the date posted is relevant, while, to my surprise, there is barely any discernable impact from being a basement apartment.\n",
        "\n",
        "But the final upshot is that, though the ensemble models beat the linear models beat the trivial model, a lot of the variation in Rent is not clearly handled by the data we used here. In updated versions of this notebook, I would want to add the location data from Area Locality (recall that it was dropped in this version), and use latitude/longitude to inform the regression."
      ],
      "metadata": {
        "id": "pMsY3wGiahbp"
      }
    }
  ]
}